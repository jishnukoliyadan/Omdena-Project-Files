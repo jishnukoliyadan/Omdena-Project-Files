{
 "cells": [
  {
   "cell_type": "markdown",
   "id": "a3d19d96-48d8-44fa-8dd5-bcfe02979b6b",
   "metadata": {},
   "source": [
    "<h1>Collecting NEWS from <a href = 'https://www.himalkhabar.com/'>HimalKhabar.com</a> :: A Complete Nepali Political News Portal</h1>\n",
    "<img src = 'https://user-images.githubusercontent.com/83589431/261517022-c6063311-2b22-469e-8fde-9aee8bfe818f.png'>"
   ]
  },
  {
   "cell_type": "markdown",
   "id": "32ab73d1-a1f4-4839-b657-33749f27bb72",
   "metadata": {},
   "source": [
    "## Importing Libraries"
   ]
  },
  {
   "cell_type": "code",
   "execution_count": 1,
   "id": "d1b84091-f556-4401-95b9-39a8aadcef39",
   "metadata": {
    "execution": {
     "iopub.execute_input": "2023-08-17T14:54:22.037341Z",
     "iopub.status.busy": "2023-08-17T14:54:22.036869Z",
     "iopub.status.idle": "2023-08-17T14:54:22.248066Z",
     "shell.execute_reply": "2023-08-17T14:54:22.247089Z"
    },
    "id": "IVS65Z5M9dN5",
    "papermill": {
     "duration": 0.218857,
     "end_time": "2023-08-17T14:54:22.250856",
     "exception": false,
     "start_time": "2023-08-17T14:54:22.031999",
     "status": "completed"
    },
    "tags": []
   },
   "outputs": [],
   "source": [
    "from bs4 import BeautifulSoup as soup\n",
    "import requests\n",
    "import re\n",
    "from tqdm import tqdm\n",
    "from time import sleep\n",
    "import numpy as np\n",
    "import pandas as pd"
   ]
  },
  {
   "cell_type": "code",
   "execution_count": 2,
   "id": "c8851714-b613-4f24-8393-0a9f3145ce16",
   "metadata": {
    "execution": {
     "iopub.execute_input": "2023-08-17T14:54:22.257882Z",
     "iopub.status.busy": "2023-08-17T14:54:22.257258Z",
     "iopub.status.idle": "2023-08-17T14:54:22.262274Z",
     "shell.execute_reply": "2023-08-17T14:54:22.261239Z"
    },
    "id": "y7Krp2CbB7I5",
    "papermill": {
     "duration": 0.010711,
     "end_time": "2023-08-17T14:54:22.264430",
     "exception": false,
     "start_time": "2023-08-17T14:54:22.253719",
     "status": "completed"
    },
    "tags": []
   },
   "outputs": [],
   "source": [
    "# Defining Constants\n",
    "\n",
    "himalkhabar_main_portel = 'https://www.himalkhabar.com/category/samachar?page='\n",
    "WAIT = 1"
   ]
  },
  {
   "cell_type": "markdown",
   "id": "5db98459-352e-4fbe-8221-1c786733d0bc",
   "metadata": {},
   "source": [
    "## Defining Helper Functiom"
   ]
  },
  {
   "cell_type": "code",
   "execution_count": 3,
   "id": "03691372-6592-4dca-8396-1c5daf9863d4",
   "metadata": {
    "execution": {
     "iopub.execute_input": "2023-08-17T14:54:22.271331Z",
     "iopub.status.busy": "2023-08-17T14:54:22.270669Z",
     "iopub.status.idle": "2023-08-17T14:54:22.276322Z",
     "shell.execute_reply": "2023-08-17T14:54:22.275173Z"
    },
    "id": "OJIZn2AQN5fk",
    "papermill": {
     "duration": 0.011507,
     "end_time": "2023-08-17T14:54:22.278506",
     "exception": false,
     "start_time": "2023-08-17T14:54:22.266999",
     "status": "completed"
    },
    "tags": []
   },
   "outputs": [],
   "source": [
    "def get_request_object(page_url):\n",
    "    return requests.get(page_url)\n",
    "\n",
    "def get_soup_object(req_object):\n",
    "    return soup(req_object.content, 'lxml')"
   ]
  },
  {
   "cell_type": "markdown",
   "id": "c25af6db-8447-4c32-b894-bfc61b821edd",
   "metadata": {},
   "source": [
    "## Scrapping : Generating news links"
   ]
  },
  {
   "cell_type": "code",
   "execution_count": 4,
   "id": "32bbfdb7-91cd-4b51-a402-e8e0bf86a49e",
   "metadata": {
    "execution": {
     "iopub.execute_input": "2023-08-17T14:54:22.285207Z",
     "iopub.status.busy": "2023-08-17T14:54:22.284815Z",
     "iopub.status.idle": "2023-08-17T15:45:59.404575Z",
     "shell.execute_reply": "2023-08-17T15:45:59.403360Z"
    },
    "id": "nYEslwG4MOjw",
    "outputId": "a0089e71-0889-46b8-bee0-b96b44cae44f",
    "papermill": {
     "duration": 3097.126111,
     "end_time": "2023-08-17T15:45:59.407174",
     "exception": false,
     "start_time": "2023-08-17T14:54:22.281063",
     "status": "completed"
    },
    "tags": []
   },
   "outputs": [
    {
     "name": "stderr",
     "output_type": "stream",
     "text": [
      "100%|██████████| 727/727 [51:37<00:00,  4.26s/it]\n"
     ]
    }
   ],
   "source": [
    "news_link_collection = {}\n",
    "\n",
    "for page_no in tqdm(range(1, 728)):\n",
    "\n",
    "    news_links_list = []\n",
    "\n",
    "    request_object = get_request_object(himalkhabar_main_portel + str(page_no))\n",
    "\n",
    "    if request_object.status_code != 200:\n",
    "        raise requests.exceptions.ConnectionError(f'Expects response code 200, but recieved {request_object}')\n",
    "\n",
    "    soup_obj = get_soup_object(request_object)\n",
    "    news_container = soup_obj.find('div', {'id' : 'content'}).find('div', {'class' : 'container'})\n",
    "\n",
    "    for links in news_container.find_all('a', href = True):\n",
    "        if re.search('https://www.himalkhabar.com/news/', links['href']):\n",
    "            news_links_list.extend(re.findall('https://www.himalkhabar.com/news/\\d+', links['href']))\n",
    "\n",
    "    news_link_collection[page_no] = list(set(news_links_list))\n",
    "\n",
    "    with open('scrapped_data/link_collection.txt', 'w', encoding = 'utf-8') as f:\n",
    "        f.write(str(news_link_collection))\n",
    "\n",
    "    sleep(WAIT)"
   ]
  },
  {
   "cell_type": "markdown",
   "id": "7e209080-a571-4053-9c79-e523718505cf",
   "metadata": {},
   "source": [
    "## Scrapping : Collecting NEWS texts"
   ]
  },
  {
   "cell_type": "code",
   "execution_count": 5,
   "id": "31f68f4b-8300-407d-befc-432155e0da60",
   "metadata": {
    "collapsed": true,
    "execution": {
     "iopub.execute_input": "2023-08-17T16:01:04.963142Z",
     "iopub.status.busy": "2023-08-17T16:01:04.962652Z",
     "iopub.status.idle": "2023-08-17T19:28:38.918449Z",
     "shell.execute_reply": "2023-08-17T19:28:38.917270Z"
    },
    "id": "Wfz61y_zae60",
    "jupyter": {
     "outputs_hidden": true
    },
    "outputId": "36822e1c-a6b9-470b-f01d-6ac580286283",
    "papermill": {
     "duration": 12453.972741,
     "end_time": "2023-08-17T19:28:38.930169",
     "exception": false,
     "start_time": "2023-08-17T16:01:04.957428",
     "status": "completed"
    },
    "tags": []
   },
   "outputs": [
    {
     "name": "stderr",
     "output_type": "stream",
     "text": [
      "100%|██████████| 100/100 [3:27:33<00:00, 124.54s/it]\n"
     ]
    }
   ],
   "source": [
    "news_collection = pd.DataFrame({'Title' : [], 'Category' : [], 'Auther' : [], 'Date' : [], 'Content' : [], 'URL' : []})\n",
    "failed_links = []\n",
    "\n",
    "for key in tqdm(sorted(news_link_collection.keys())[:100]):\n",
    "    for news_link in news_link_collection[key]:\n",
    "\n",
    "        try:\n",
    "            request_object = get_request_object(news_link)\n",
    "\n",
    "            soup_obj = get_soup_object(request_object)\n",
    "\n",
    "            article_soup = soup_obj.find('aside')\n",
    "\n",
    "            try: news_category = article_soup.find('span', {'class' : 'cat-name'}).text.strip()\n",
    "            except: news_category = np.nan\n",
    "\n",
    "            try: news_title = article_soup.find('span', {'class' : 'news-big-title'}).text.strip()\n",
    "            except: news_title = np.nan\n",
    "\n",
    "            try:\n",
    "                media_body = article_soup.find('div', {'class' : 'media-body'})\n",
    "                try: auther = media_body.find('a').text.strip()\n",
    "                except: auther= np.nan\n",
    "                try: date_ = media_body.find_all('span')[-1].text.strip()\n",
    "                except: autdate_her= np.nan\n",
    "            except:\n",
    "                auther, date_ = np.nan, np.nan\n",
    "\n",
    "            try: news_content = '. '.join([re.sub(r'\\xa0|\\n|\\t', '', para.text).strip() for para in article_soup.find('div', {'class' : 'detail-box'}).find_all('p')]).strip()\n",
    "            except: news_content = np.nan\n",
    "\n",
    "        except:\n",
    "            news_category, news_title, auther, date_, news_content, news_link = np.nan, np.nan, np.nan, np.nan, np.nan, np.nan\n",
    "            failed_links.extend(news_link)\n",
    "        finally:\n",
    "            news_collection.loc[len(news_collection)] = [news_title, news_category, auther, date_, news_content, news_link]\n",
    "\n",
    "            with open('scrapped_data/failed_links.txt', 'w', encoding = 'utf-8') as f:\n",
    "                f.write(str(failed_links))\n",
    "\n",
    "        news_collection.to_csv('scrapped_data/news_collections.csv', index = False, encoding = 'utf-8')\n",
    "        news_collection.to_json('scrapped_data/news_collections.json')\n",
    "\n",
    "        sleep(WAIT)"
   ]
  },
  {
   "cell_type": "markdown",
   "id": "1c7f62c6-de5b-49ed-8d95-a574de0c470e",
   "metadata": {},
   "source": [
    "<div class=\"alert alert-info\" role=\"alert\">\n",
    "    <p><strong><u>NOTE :</u></strong></p>\n",
    "    <ul>\n",
    "        <li>We had about <strong>520+</strong> pages, splitted those in size of <strong>100</strong> and ran the above same code by chaning <strong>limit</strong> parameters to speed-up the scrappping process.</li>\n",
    "        <li>Once collected all the news from variuos runs, combines them as shown in below to get the desired output.</li>\n",
    "    </ul>\n",
    "</div>"
   ]
  },
  {
   "cell_type": "markdown",
   "id": "75d797da-a898-468d-b3af-7f731335f2b5",
   "metadata": {},
   "source": [
    "## Combining collected data files"
   ]
  },
  {
   "cell_type": "code",
   "execution_count": 6,
   "id": "9d4079ca-50e7-4bc4-8ef4-ed1640623f96",
   "metadata": {},
   "outputs": [
    {
     "data": {
      "text/plain": [
       "['scrapped_data/news_collections-0-100.json',\n",
       " 'scrapped_data/news_collections-100-200.json',\n",
       " 'scrapped_data/news_collections-200-300.json',\n",
       " 'scrapped_data/news_collections-300-400.json',\n",
       " 'scrapped_data/news_collections-400-500.json',\n",
       " 'scrapped_data/news_collections-500-600.json',\n",
       " 'scrapped_data/news_collections-600-700.json',\n",
       " 'scrapped_data/news_collections-700+.json']"
      ]
     },
     "execution_count": 6,
     "metadata": {},
     "output_type": "execute_result"
    }
   ],
   "source": [
    "# Listing all collected data : JSON files only\n",
    "\n",
    "sorted(glob('scrapped_data/*.json'))"
   ]
  },
  {
   "cell_type": "code",
   "execution_count": 7,
   "id": "168f2263-b198-4bdd-9f0f-d9c0ad9c50d6",
   "metadata": {},
   "outputs": [
    {
     "name": "stdout",
     "output_type": "stream",
     "text": [
      "Combined data collection size : (21805, 6)\n"
     ]
    }
   ],
   "source": [
    "combined_df = pd.DataFrame()\n",
    "for file in sorted(glob('scrapped_data/*.json')):\n",
    "    temp_df = pd.read_json(file)\n",
    "    temp_df.index = np.array(temp_df.index) + temp_df.shape[0]\n",
    "    combined_df = pd.concat([combined_df, temp_df])\n",
    "\n",
    "print(f'Combined data collection size : {combined_df.shape}')"
   ]
  },
  {
   "cell_type": "code",
   "execution_count": 8,
   "id": "ed7d517a-785c-4be6-9384-bc8781abdd84",
   "metadata": {},
   "outputs": [
    {
     "data": {
      "text/plain": [
       "Title        0\n",
       "Category     0\n",
       "Auther      21\n",
       "Date         0\n",
       "Content     79\n",
       "URL          0\n",
       "dtype: int64"
      ]
     },
     "execution_count": 8,
     "metadata": {},
     "output_type": "execute_result"
    }
   ],
   "source": [
    "combined_df.isnull().sum()"
   ]
  },
  {
   "cell_type": "code",
   "execution_count": 9,
   "id": "d1884711-851b-4955-998b-7227d3ab84ac",
   "metadata": {},
   "outputs": [
    {
     "name": "stdout",
     "output_type": "stream",
     "text": [
      "Number of totoal missing rows and % of missing : 100 & 0.46%\n"
     ]
    }
   ],
   "source": [
    "orig_size = combined_df.shape[0]\n",
    "missing_size = combined_df.dropna(how = 'any').shape[0]\n",
    "percent_missing = (orig_size-missing_size)/orig_size * 100\n",
    "\n",
    "print(f'Number of totoal missing rows and % of missing : {orig_size-missing_size} & {percent_missing:.2f}%')"
   ]
  },
  {
   "cell_type": "markdown",
   "id": "83d2e098-9865-4d2a-900a-bef3f035ec8c",
   "metadata": {},
   "source": [
    "Since missing is only **0.46%**, intead of re-scrapping removing those rows and proceeding to next."
   ]
  },
  {
   "cell_type": "markdown",
   "id": "baac6c5f-c239-4240-983d-297e17d3fba0",
   "metadata": {},
   "source": [
    "## Saving the combined datacollection to JSON"
   ]
  },
  {
   "cell_type": "code",
   "execution_count": 10,
   "id": "2d9ef450-0903-44c8-8881-f5caa1fba273",
   "metadata": {},
   "outputs": [],
   "source": [
    "combined_df.dropna(how = 'any').reset_index(drop = True).to_json('HimalKhabar_news_collection.json')"
   ]
  }
 ],
 "metadata": {
  "kernelspec": {
   "display_name": "Python 3 (ipykernel)",
   "language": "python",
   "name": "python3"
  },
  "language_info": {
   "codemirror_mode": {
    "name": "ipython",
    "version": 3
   },
   "file_extension": ".py",
   "mimetype": "text/x-python",
   "name": "python",
   "nbconvert_exporter": "python",
   "pygments_lexer": "ipython3",
   "version": "3.9.7"
  }
 },
 "nbformat": 4,
 "nbformat_minor": 5
}
