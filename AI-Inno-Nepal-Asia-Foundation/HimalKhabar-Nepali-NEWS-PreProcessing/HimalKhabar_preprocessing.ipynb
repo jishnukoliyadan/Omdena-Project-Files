{
 "cells": [
  {
   "cell_type": "markdown",
   "id": "e2e93dea-b1bb-4dbb-8f68-3415c614d74c",
   "metadata": {},
   "source": [
    "Data Structure:\n",
    "\n",
    "- 'website_name' : Name of the website. type: str\n",
    "- 'category': news category ( such as political, society, economy etc.)\n",
    "- 'title': title of the news. type: str, language: nepali/english\n",
    "- 'authors': name of the author, type: str, example: कारोबार संवाददाता\n",
    "- 'published_date': Date in Roman Calenader, example: December 17 2019, Tuesday => 17-12-2019\n",
    "- 'content': content of news. must be greater than 30 words. type: str\n",
    "- 'language', : language of content.\n",
    "- 'url': url of that partiular news."
   ]
  },
  {
   "cell_type": "markdown",
   "id": "811cfffa-5a41-4740-8723-96178bc54da6",
   "metadata": {},
   "source": [
    "## Importing Libraries"
   ]
  },
  {
   "cell_type": "markdown",
   "id": "11a71d6a-88c2-4456-9dcd-59f05b787069",
   "metadata": {},
   "source": [
    "Used Environment details :\n",
    "\n",
    "**environ.yml** $\\implies$\n",
    "\n",
    "``` yaml\n",
    "name: hmimalkhabar_processing\n",
    "channels:\n",
    "  - defaults\n",
    "dependencies:\n",
    "  - pip=23.2.1\n",
    "  - python=3.11.4\n",
    "  - pip:\n",
    "      - jupyterlab==4.0.5\n",
    "      - pandas==2.0.3\n",
    "      - pybsdate==0.3.0\n",
    "```"
   ]
  },
  {
   "cell_type": "code",
   "execution_count": 1,
   "id": "1a5bc6f2-5d45-40c9-880f-49b27320ece9",
   "metadata": {},
   "outputs": [],
   "source": [
    "import numpy as np\n",
    "import pandas as pd\n",
    "from glob import glob\n",
    "from pyBSDate import bsdate # Date conversion From Bikram Sambat(BS) to English Date(AD) and viceversa"
   ]
  },
  {
   "cell_type": "code",
   "execution_count": 2,
   "id": "840cfeb5-3969-4737-ad24-e4ca118c4602",
   "metadata": {},
   "outputs": [
    {
     "data": {
      "text/plain": [
       "['HimalKhabar_news_collection.json']"
      ]
     },
     "execution_count": 2,
     "metadata": {},
     "output_type": "execute_result"
    }
   ],
   "source": [
    "# Lising json files inside the the directory\n",
    "glob('*.json')"
   ]
  },
  {
   "cell_type": "markdown",
   "id": "26906e4e-c09e-440e-aae6-afd3d13105a2",
   "metadata": {},
   "source": [
    "## Reading the [HimalKhabar_news_collection.json](https://dagshub.com/Omdena/Nepal-Asia-Foundation/src/main/tasks/task-01-data-collection/Nepali_Newspapers/HimalKhabar_NEWS/HimalKhabar_news_collection.json) dataset"
   ]
  },
  {
   "cell_type": "code",
   "execution_count": 3,
   "id": "68298c7b-8d86-4e45-81b5-f4496dcae57f",
   "metadata": {},
   "outputs": [
    {
     "name": "stdout",
     "output_type": "stream",
     "text": [
      "Shape of the data set : (21705, 6)\n",
      "\n"
     ]
    },
    {
     "data": {
      "text/html": [
       "<div>\n",
       "<style scoped>\n",
       "    .dataframe tbody tr th:only-of-type {\n",
       "        vertical-align: middle;\n",
       "    }\n",
       "\n",
       "    .dataframe tbody tr th {\n",
       "        vertical-align: top;\n",
       "    }\n",
       "\n",
       "    .dataframe thead th {\n",
       "        text-align: right;\n",
       "    }\n",
       "</style>\n",
       "<table border=\"1\" class=\"dataframe\">\n",
       "  <thead>\n",
       "    <tr style=\"text-align: right;\">\n",
       "      <th></th>\n",
       "      <th>Title</th>\n",
       "      <th>Category</th>\n",
       "      <th>Auther</th>\n",
       "      <th>Date</th>\n",
       "      <th>Content</th>\n",
       "      <th>URL</th>\n",
       "    </tr>\n",
       "  </thead>\n",
       "  <tbody>\n",
       "    <tr>\n",
       "      <th>19194</th>\n",
       "      <td>देवी र रेणुबीच ७६ मतको अन्तर</td>\n",
       "      <td>समाचार</td>\n",
       "      <td>हिमालखबर</td>\n",
       "      <td>शनिबार, २१ साउन, २०७४</td>\n",
       "      <td>भरतपुर महानगरपालिकाको जारी मतगणनामा एमाले उम्म...</td>\n",
       "      <td>https://www.himalkhabar.com/news/4824</td>\n",
       "    </tr>\n",
       "    <tr>\n",
       "      <th>11104</th>\n",
       "      <td>जिल्ला न्यायाधीश पदमा २९ जना माग हुँदा अन्तर्व...</td>\n",
       "      <td>समाचार</td>\n",
       "      <td>हिमालखबर</td>\n",
       "      <td>आइतबार, ४ साउन, २०७७</td>\n",
       "      <td>न्याय सेवा आयोगले जिल्ला अदालतहरूमा रिक्त २९ प...</td>\n",
       "      <td>https://www.himalkhabar.com/news/116198</td>\n",
       "    </tr>\n",
       "    <tr>\n",
       "      <th>7974</th>\n",
       "      <td>कमानसिंह र हाइड्रोपावरको विवादमा नारायणकाजीलाई...</td>\n",
       "      <td>समाचार</td>\n",
       "      <td>हिमालखबर</td>\n",
       "      <td>आइतबार, २८ मंसिर, २०७७</td>\n",
       "      <td>नेपाल कम्युनिष्ट पार्टी (नेकपा)का कार्यकारी अध...</td>\n",
       "      <td>https://www.himalkhabar.com/news/121322</td>\n",
       "    </tr>\n",
       "    <tr>\n",
       "      <th>18241</th>\n",
       "      <td>प्रदेश ३ः एमाले प्रदेश सभा संसदीय दलको नेतामा ...</td>\n",
       "      <td>समाचार</td>\n",
       "      <td>हिमालखबर</td>\n",
       "      <td>शुक्रबार, २६ माघ, २०७४</td>\n",
       "      <td>प्रदेश ३ को नेकपा एमाले प्रदेश सभा संसदीय दलको...</td>\n",
       "      <td>https://www.himalkhabar.com/news/6680</td>\n",
       "    </tr>\n",
       "  </tbody>\n",
       "</table>\n",
       "</div>"
      ],
      "text/plain": [
       "                                                   Title Category    Auther  \\\n",
       "19194                       देवी र रेणुबीच ७६ मतको अन्तर   समाचार  हिमालखबर   \n",
       "11104  जिल्ला न्यायाधीश पदमा २९ जना माग हुँदा अन्तर्व...   समाचार  हिमालखबर   \n",
       "7974   कमानसिंह र हाइड्रोपावरको विवादमा नारायणकाजीलाई...   समाचार  हिमालखबर   \n",
       "18241  प्रदेश ३ः एमाले प्रदेश सभा संसदीय दलको नेतामा ...   समाचार  हिमालखबर   \n",
       "\n",
       "                         Date  \\\n",
       "19194   शनिबार, २१ साउन, २०७४   \n",
       "11104    आइतबार, ४ साउन, २०७७   \n",
       "7974   आइतबार, २८ मंसिर, २०७७   \n",
       "18241  शुक्रबार, २६ माघ, २०७४   \n",
       "\n",
       "                                                 Content  \\\n",
       "19194  भरतपुर महानगरपालिकाको जारी मतगणनामा एमाले उम्म...   \n",
       "11104  न्याय सेवा आयोगले जिल्ला अदालतहरूमा रिक्त २९ प...   \n",
       "7974   नेपाल कम्युनिष्ट पार्टी (नेकपा)का कार्यकारी अध...   \n",
       "18241  प्रदेश ३ को नेकपा एमाले प्रदेश सभा संसदीय दलको...   \n",
       "\n",
       "                                           URL  \n",
       "19194    https://www.himalkhabar.com/news/4824  \n",
       "11104  https://www.himalkhabar.com/news/116198  \n",
       "7974   https://www.himalkhabar.com/news/121322  \n",
       "18241    https://www.himalkhabar.com/news/6680  "
      ]
     },
     "execution_count": 3,
     "metadata": {},
     "output_type": "execute_result"
    }
   ],
   "source": [
    "hmimalkhabar_df = pd.read_json('HimalKhabar_news_collection.json')\n",
    "original_shape = hmimalkhabar_df.shape\n",
    "print(f'Shape of the data set : {original_shape}\\n')\n",
    "hmimalkhabar_df.sample(4)"
   ]
  },
  {
   "cell_type": "markdown",
   "id": "56396e76-27e9-4ba1-b77d-20cb3bcaa1ea",
   "metadata": {},
   "source": [
    "## Cleaning the data"
   ]
  },
  {
   "cell_type": "code",
   "execution_count": 4,
   "id": "4548e6b1-1c3d-492f-b7a8-9410640f912e",
   "metadata": {},
   "outputs": [
    {
     "data": {
      "text/plain": [
       "['Title', 'Category', 'Auther', 'Date', 'Content', 'URL']"
      ]
     },
     "execution_count": 4,
     "metadata": {},
     "output_type": "execute_result"
    }
   ],
   "source": [
    "# Present column names\n",
    "\n",
    "list(hmimalkhabar_df.columns)"
   ]
  },
  {
   "cell_type": "code",
   "execution_count": 5,
   "id": "937117fd-6826-4a9f-a7a2-5ddebdfe0bd1",
   "metadata": {},
   "outputs": [
    {
     "data": {
      "text/html": [
       "<div>\n",
       "<style scoped>\n",
       "    .dataframe tbody tr th:only-of-type {\n",
       "        vertical-align: middle;\n",
       "    }\n",
       "\n",
       "    .dataframe tbody tr th {\n",
       "        vertical-align: top;\n",
       "    }\n",
       "\n",
       "    .dataframe thead th {\n",
       "        text-align: right;\n",
       "    }\n",
       "</style>\n",
       "<table border=\"1\" class=\"dataframe\">\n",
       "  <thead>\n",
       "    <tr style=\"text-align: right;\">\n",
       "      <th></th>\n",
       "      <th>title</th>\n",
       "      <th>category</th>\n",
       "      <th>authors</th>\n",
       "      <th>Date</th>\n",
       "      <th>content</th>\n",
       "      <th>url</th>\n",
       "      <th>website_name</th>\n",
       "      <th>language</th>\n",
       "    </tr>\n",
       "  </thead>\n",
       "  <tbody>\n",
       "    <tr>\n",
       "      <th>13433</th>\n",
       "      <td>रौतहटको श्रीराम सुगर मिल सञ्चालनमा</td>\n",
       "      <td>समाचार</td>\n",
       "      <td>हिमालखबर</td>\n",
       "      <td>बुधबार, २९ माघ, २०७६</td>\n",
       "      <td>चिनी मिल सञ्चालनका लागि आन्दोलन गर्दै आएको रौत...</td>\n",
       "      <td>https://www.himalkhabar.com/news/111542</td>\n",
       "      <td>HimalKhabar</td>\n",
       "      <td>Nepali</td>\n",
       "    </tr>\n",
       "    <tr>\n",
       "      <th>7032</th>\n",
       "      <td>पुल बनाइरहेका मजदूर त्रिशूलीमा खसे, तीनको उद्ध...</td>\n",
       "      <td>समाचार</td>\n",
       "      <td>हिमालखबर</td>\n",
       "      <td>आइतबार, १२ वैशाख, २०७८</td>\n",
       "      <td>त्रिशूलीमा पुल निर्माण गरिरहेका पाँच जना मजदूर...</td>\n",
       "      <td>https://www.himalkhabar.com/news/123016</td>\n",
       "      <td>HimalKhabar</td>\n",
       "      <td>Nepali</td>\n",
       "    </tr>\n",
       "    <tr>\n",
       "      <th>366</th>\n",
       "      <td>झूटो विवरणका आधारमा नागरिकता लिएको आरोपमा उपमे...</td>\n",
       "      <td>समाचार</td>\n",
       "      <td>वीरेन्द्र रमण</td>\n",
       "      <td>बिहीबार, २१ असार, २०८०</td>\n",
       "      <td>झूटो विवरणका आधारमा नागरिकता लिएको आरोपमा सप्त...</td>\n",
       "      <td>https://www.himalkhabar.com/news/136861</td>\n",
       "      <td>HimalKhabar</td>\n",
       "      <td>Nepali</td>\n",
       "    </tr>\n",
       "  </tbody>\n",
       "</table>\n",
       "</div>"
      ],
      "text/plain": [
       "                                                   title category  \\\n",
       "13433                 रौतहटको श्रीराम सुगर मिल सञ्चालनमा   समाचार   \n",
       "7032   पुल बनाइरहेका मजदूर त्रिशूलीमा खसे, तीनको उद्ध...   समाचार   \n",
       "366    झूटो विवरणका आधारमा नागरिकता लिएको आरोपमा उपमे...   समाचार   \n",
       "\n",
       "             authors                    Date  \\\n",
       "13433       हिमालखबर    बुधबार, २९ माघ, २०७६   \n",
       "7032        हिमालखबर  आइतबार, १२ वैशाख, २०७८   \n",
       "366    वीरेन्द्र रमण  बिहीबार, २१ असार, २०८०   \n",
       "\n",
       "                                                 content  \\\n",
       "13433  चिनी मिल सञ्चालनका लागि आन्दोलन गर्दै आएको रौत...   \n",
       "7032   त्रिशूलीमा पुल निर्माण गरिरहेका पाँच जना मजदूर...   \n",
       "366    झूटो विवरणका आधारमा नागरिकता लिएको आरोपमा सप्त...   \n",
       "\n",
       "                                           url website_name language  \n",
       "13433  https://www.himalkhabar.com/news/111542  HimalKhabar   Nepali  \n",
       "7032   https://www.himalkhabar.com/news/123016  HimalKhabar   Nepali  \n",
       "366    https://www.himalkhabar.com/news/136861  HimalKhabar   Nepali  "
      ]
     },
     "execution_count": 5,
     "metadata": {},
     "output_type": "execute_result"
    }
   ],
   "source": [
    "# Unifying column names and dropping unwanted columns\n",
    "\n",
    "correcting_col_names = {'Title' : 'title', 'Category' : 'category',\n",
    "                       'Auther' : 'authors', 'Content' : 'content', \n",
    "                       'URL' : 'url'}\n",
    "\n",
    "\n",
    "hmimalkhabar_df = hmimalkhabar_df.rename(columns = correcting_col_names)\n",
    "hmimalkhabar_df['website_name'] = 'HimalKhabar'\n",
    "hmimalkhabar_df['language'] = 'Nepali'\n",
    "hmimalkhabar_df.sample(3)"
   ]
  },
  {
   "cell_type": "code",
   "execution_count": 6,
   "id": "2da679c0-6f99-4944-9ee7-46e84ab3d700",
   "metadata": {},
   "outputs": [
    {
     "data": {
      "text/plain": [
       "title           0\n",
       "category        0\n",
       "authors         0\n",
       "Date            0\n",
       "content         0\n",
       "url             0\n",
       "website_name    0\n",
       "language        0\n",
       "dtype: int64"
      ]
     },
     "execution_count": 6,
     "metadata": {},
     "output_type": "execute_result"
    }
   ],
   "source": [
    "# Checking for missing value count\n",
    "\n",
    "hmimalkhabar_df.isnull().sum()"
   ]
  },
  {
   "cell_type": "markdown",
   "id": "a5d975fb-0d60-4670-8295-1f7cd5a9e658",
   "metadata": {},
   "source": [
    "## Check for NEWS length"
   ]
  },
  {
   "cell_type": "code",
   "execution_count": 7,
   "id": "e92ce0de-3be8-474a-b3d6-958522634b2b",
   "metadata": {},
   "outputs": [
    {
     "name": "stdout",
     "output_type": "stream",
     "text": [
      "Number of NEWS doesn't have  atleast 30 words = 158\n"
     ]
    }
   ],
   "source": [
    "# Checking news contents that have atleast 30 words init.\n",
    "\n",
    "def content_length_30(text):\n",
    "    if len(text.split()) < 30:\n",
    "        return np.nan\n",
    "    return text.replace(' .', '')\n",
    "\n",
    "hmimalkhabar_df.content = hmimalkhabar_df.content.apply(content_length_30)\n",
    "mo_of_rejected_news = hmimalkhabar_df.content.isnull().sum()\n",
    "print(f\"Number of NEWS doesn't have  atleast 30 words = {mo_of_rejected_news}\")"
   ]
  },
  {
   "cell_type": "code",
   "execution_count": 8,
   "id": "7b648651-58a1-4541-886d-191e4b904c11",
   "metadata": {},
   "outputs": [
    {
     "data": {
      "text/plain": [
       "title           0\n",
       "category        0\n",
       "authors         0\n",
       "Date            0\n",
       "content         0\n",
       "url             0\n",
       "website_name    0\n",
       "language        0\n",
       "dtype: int64"
      ]
     },
     "execution_count": 8,
     "metadata": {},
     "output_type": "execute_result"
    }
   ],
   "source": [
    "# Dropping rows where 'contents' doesn't have atleast 30 words\n",
    "\n",
    "hmimalkhabar_df.dropna(subset = 'content', inplace = True)\n",
    "hmimalkhabar_df.isnull().sum()"
   ]
  },
  {
   "cell_type": "markdown",
   "id": "c8d7d02e-7551-4bfe-9e89-e94e226ee716",
   "metadata": {},
   "source": [
    "## Check for dupllicates"
   ]
  },
  {
   "cell_type": "code",
   "execution_count": 9,
   "id": "115bb041-d049-4d1a-a86c-ea228a98901f",
   "metadata": {},
   "outputs": [
    {
     "data": {
      "text/plain": [
       "0"
      ]
     },
     "execution_count": 9,
     "metadata": {},
     "output_type": "execute_result"
    }
   ],
   "source": [
    "# Checking number of duplicates\n",
    "\n",
    "hmimalkhabar_df.duplicated().sum()"
   ]
  },
  {
   "cell_type": "code",
   "execution_count": 10,
   "id": "afea62b0-55b7-4457-a706-0107a0e344f5",
   "metadata": {},
   "outputs": [
    {
     "name": "stdout",
     "output_type": "stream",
     "text": [
      "Number of ducplicate records in the dataset (based on url) = 0\n",
      "\n"
     ]
    },
    {
     "data": {
      "text/html": [
       "<div>\n",
       "<style scoped>\n",
       "    .dataframe tbody tr th:only-of-type {\n",
       "        vertical-align: middle;\n",
       "    }\n",
       "\n",
       "    .dataframe tbody tr th {\n",
       "        vertical-align: top;\n",
       "    }\n",
       "\n",
       "    .dataframe thead th {\n",
       "        text-align: right;\n",
       "    }\n",
       "</style>\n",
       "<table border=\"1\" class=\"dataframe\">\n",
       "  <thead>\n",
       "    <tr style=\"text-align: right;\">\n",
       "      <th></th>\n",
       "      <th>title</th>\n",
       "      <th>category</th>\n",
       "      <th>authors</th>\n",
       "      <th>Date</th>\n",
       "      <th>content</th>\n",
       "      <th>url</th>\n",
       "      <th>website_name</th>\n",
       "      <th>language</th>\n",
       "    </tr>\n",
       "  </thead>\n",
       "  <tbody>\n",
       "  </tbody>\n",
       "</table>\n",
       "</div>"
      ],
      "text/plain": [
       "Empty DataFrame\n",
       "Columns: [title, category, authors, Date, content, url, website_name, language]\n",
       "Index: []"
      ]
     },
     "execution_count": 10,
     "metadata": {},
     "output_type": "execute_result"
    }
   ],
   "source": [
    "# Further Checking for duplicates\n",
    "\n",
    "duplicates_df = hmimalkhabar_df[hmimalkhabar_df.duplicated(subset = 'url')]\n",
    "rows_removed = duplicates_df.shape[0]\n",
    "print(f'Number of ducplicate records in the dataset (based on url) = {rows_removed}\\n')\n",
    "duplicates_df.head()"
   ]
  },
  {
   "cell_type": "markdown",
   "id": "b0440e54-f6b2-4352-b47f-2be603b6e964",
   "metadata": {},
   "source": [
    "Shows we don't have any redundancy in the dataset."
   ]
  },
  {
   "cell_type": "markdown",
   "id": "bf18ec63-8bb6-4be2-9296-da980a6cede8",
   "metadata": {},
   "source": [
    "## Coverting BS calendar (Bikram Samwat) to Roman calendar"
   ]
  },
  {
   "cell_type": "code",
   "execution_count": 11,
   "id": "ffdb0c8d-613b-4edf-91e7-7253a39debd1",
   "metadata": {},
   "outputs": [],
   "source": [
    "# https://calendar-nepali.com/about/Nepali-Calendar-Months.html\n",
    "\n",
    "months_dict  = {'बैशाख': 1, 'वैशाख' : 1,\n",
    "                'जेष्ठ': 2, 'जेठ' : 2,\n",
    "                'असार': 3, 'आषाढ़' : 3,\n",
    "                'साउन': 4, 'श्रावण' : 4, 'सावन' : 4,\n",
    "                'भाद्र' : 5, 'भदौ': 5, 'भादो' : 5,\n",
    "                'अशोज': 6, 'आश्विन' : 6, 'असोज' : 6, 'कुआर' : 6, 'क्वार' : 6,\n",
    "                'कार्तिक': 7, 'कात्तिक' : 7,\n",
    "                'मंसिर': 8, 'अगहन' : 8, 'मार्ग' : 8,\n",
    "                'पुस': 9, 'पुष' : 9, 'पूस' : 9, 'पौष' : 9,\n",
    "                'माघ': 10,\n",
    "                'फाल्गुन': 11, 'फागुन' : 11,\n",
    "                'चैत्र': 12, 'चैत' : 12}"
   ]
  },
  {
   "cell_type": "code",
   "execution_count": 12,
   "id": "5d93b2b6-ca90-491e-a429-8b2543e4f3e4",
   "metadata": {},
   "outputs": [],
   "source": [
    "# https://nepalilanguage.org/numbers/\n",
    "\n",
    "number_dict = {'०': '0', '१': '1', '२': '2',\n",
    "               '३': '3', '४': '4', '५': '5',\n",
    "               '६': '6', '७': '7', '८': '8',\n",
    "               '९': '9'}"
   ]
  },
  {
   "cell_type": "code",
   "execution_count": 13,
   "id": "abb9ac23-2b40-43a5-8488-5cf29c0fe91a",
   "metadata": {},
   "outputs": [
    {
     "data": {
      "text/plain": [
       "4     सोमबार २९ साउन २०८०\n",
       "5     बुधबार ३१ साउन २०८०\n",
       "6     बुधबार ३१ साउन २०८०\n",
       "7          १५ मिनेट पहिले\n",
       "8           १ घण्टा पहिले\n",
       "9           ६ घण्टा पहिले\n",
       "10          ८ घण्टा पहिले\n",
       "11    बुधबार ३१ साउन २०८०\n",
       "12          ४ घण्टा पहिले\n",
       "13    बुधबार ३१ साउन २०८०\n",
       "14    सोमबार २९ साउन २०८०\n",
       "Name: Date, dtype: object"
      ]
     },
     "execution_count": 13,
     "metadata": {},
     "output_type": "execute_result"
    }
   ],
   "source": [
    "# Removing ',' from date column\n",
    "hmimalkhabar_df.Date = hmimalkhabar_df.Date.apply(lambda row : row.replace(',', ''))\n",
    "\n",
    "# Printing some samples from Date column\n",
    "hmimalkhabar_df.Date[4:15]"
   ]
  },
  {
   "cell_type": "code",
   "execution_count": 14,
   "id": "fff8f289-f28a-42fa-9d45-51f9ec36082e",
   "metadata": {},
   "outputs": [
    {
     "data": {
      "text/plain": [
       "Date\n",
       "4    21536\n",
       "3       11\n",
       "Name: count, dtype: int64"
      ]
     },
     "execution_count": 14,
     "metadata": {},
     "output_type": "execute_result"
    }
   ],
   "source": [
    "# Checking different formats count in the Date column\n",
    "\n",
    "len_of_date = hmimalkhabar_df.Date.apply(lambda row : len(row.split()))\n",
    "len_of_date.value_counts()"
   ]
  },
  {
   "cell_type": "code",
   "execution_count": 15,
   "id": "c21357e6-b923-461d-98b0-7f8a38dec120",
   "metadata": {},
   "outputs": [
    {
     "data": {
      "text/plain": [
       "7     १५ मिनेट पहिले\n",
       "8      १ घण्टा पहिले\n",
       "9      ६ घण्टा पहिले\n",
       "10     ८ घण्टा पहिले\n",
       "12     ४ घण्टा पहिले\n",
       "16     ७ घण्टा पहिले\n",
       "17    १२ घण्टा पहिले\n",
       "21    ११ घण्टा पहिले\n",
       "22    ११ घण्टा पहिले\n",
       "23     ३ घण्टा पहिले\n",
       "27     ५ घण्टा पहिले\n",
       "Name: Date, dtype: object"
      ]
     },
     "execution_count": 15,
     "metadata": {},
     "output_type": "execute_result"
    }
   ],
   "source": [
    "# Visualize dates that only have 3 parts in it\n",
    "\n",
    "hmimalkhabar_df.Date[len_of_date.apply(lambda row : row ==3)]"
   ]
  },
  {
   "cell_type": "markdown",
   "id": "b7c2276d-94e6-4d63-ae7d-25930aa1bac3",
   "metadata": {},
   "source": [
    "**What does that implies ?**\n",
    "\n",
    "१५ मिनेट पहिले $\\implies$ 15 minutes ago\\\n",
    "१ घण्टा पहिले $\\implies$ 1 hour ago\\\n",
    "६ घण्टा पहिले $\\implies$ 6 hours ago\\\n",
    "८ घण्टा पहिले $\\implies$ 8 hours ago\\\n",
    "४ घण्टा पहिले $\\implies$ 4 hours ago\\\n",
    "७ घण्टा पहिले $\\implies$ 7 hours ago\\\n",
    "१२ घण्टा पहिले $\\implies$ 12 hours ago\\\n",
    "११ घण्टा पहिले $\\implies$ 11 hours ago\\\n",
    "३ घण्टा पहिले $\\implies$ 3 hours ago\\\n",
    "५ घण्टा पहिले $\\implies$ 5 hours ago\n",
    "\n",
    "These news added in the same date of the data scrapping took place $\\implies$ date is **17-08-2023**"
   ]
  },
  {
   "cell_type": "code",
   "execution_count": 16,
   "id": "92a9397b-a9b7-4bd5-bed6-de0dc71049ce",
   "metadata": {},
   "outputs": [
    {
     "data": {
      "text/html": [
       "<div>\n",
       "<style scoped>\n",
       "    .dataframe tbody tr th:only-of-type {\n",
       "        vertical-align: middle;\n",
       "    }\n",
       "\n",
       "    .dataframe tbody tr th {\n",
       "        vertical-align: top;\n",
       "    }\n",
       "\n",
       "    .dataframe thead th {\n",
       "        text-align: right;\n",
       "    }\n",
       "</style>\n",
       "<table border=\"1\" class=\"dataframe\">\n",
       "  <thead>\n",
       "    <tr style=\"text-align: right;\">\n",
       "      <th></th>\n",
       "      <th>title</th>\n",
       "      <th>category</th>\n",
       "      <th>authors</th>\n",
       "      <th>Date</th>\n",
       "      <th>content</th>\n",
       "      <th>url</th>\n",
       "      <th>website_name</th>\n",
       "      <th>language</th>\n",
       "      <th>published_date</th>\n",
       "    </tr>\n",
       "  </thead>\n",
       "  <tbody>\n",
       "    <tr>\n",
       "      <th>1194</th>\n",
       "      <td>‘जनयुद्ध दिवस’ मा बिदा दिने निर्णय विरुद्धको र...</td>\n",
       "      <td>समाचार</td>\n",
       "      <td>हिमालखबर</td>\n",
       "      <td>बुधबार २२ चैत २०७९</td>\n",
       "      <td>सर्वोच्च अदालतले ‘जनयुद्ध दिवस’ मा बिदा दिने स...</td>\n",
       "      <td>https://www.himalkhabar.com/news/135184</td>\n",
       "      <td>HimalKhabar</td>\n",
       "      <td>Nepali</td>\n",
       "      <td>05-04-2023</td>\n",
       "    </tr>\n",
       "    <tr>\n",
       "      <th>9231</th>\n",
       "      <td>डा. केसी पक्ष र सरकारी टोलीबीचको वार्ता विना न...</td>\n",
       "      <td>स्वास्थ्य</td>\n",
       "      <td>हिमालखबर</td>\n",
       "      <td>शुक्रबार २३ असोज २०७७</td>\n",
       "      <td>चिकित्सा शिक्षा सुधारका अभियन्ता डा. गोविन्द क...</td>\n",
       "      <td>https://www.himalkhabar.com/news/119332</td>\n",
       "      <td>HimalKhabar</td>\n",
       "      <td>Nepali</td>\n",
       "      <td>09-10-2020</td>\n",
       "    </tr>\n",
       "    <tr>\n",
       "      <th>9749</th>\n",
       "      <td>हिरासतमा भइरहेका मृत्युबारे छानबिन गर्ने संसदी...</td>\n",
       "      <td>समाचार</td>\n",
       "      <td>हिमालखबर</td>\n",
       "      <td>बिहीबार १ असोज २०७७</td>\n",
       "      <td>प्रतिनिधिसभाको कानून, न्याय तथा मानवअधिकार समि...</td>\n",
       "      <td>https://www.himalkhabar.com/news/118499</td>\n",
       "      <td>HimalKhabar</td>\n",
       "      <td>Nepali</td>\n",
       "      <td>17-09-2020</td>\n",
       "    </tr>\n",
       "    <tr>\n",
       "      <th>20820</th>\n",
       "      <td>संविधान संशोधन विधेयकको विरोधमा तौलिहवामा प्रद...</td>\n",
       "      <td>समाचार</td>\n",
       "      <td>हिमालखबर</td>\n",
       "      <td>बिहीबार २८ पुस २०७३</td>\n",
       "      <td>संविधान संशोधन विधेयकको विरोधमा कपिलवस्तुको तौ...</td>\n",
       "      <td>https://www.himalkhabar.com/news/1771</td>\n",
       "      <td>HimalKhabar</td>\n",
       "      <td>Nepali</td>\n",
       "      <td>12-01-2017</td>\n",
       "    </tr>\n",
       "    <tr>\n",
       "      <th>5173</th>\n",
       "      <td>भारतमा पनि देखियो ओमिक्रोन, दुई जनामा सङ्क्रमण...</td>\n",
       "      <td>कोभिड-१९</td>\n",
       "      <td>हिमालखबर</td>\n",
       "      <td>बिहीबार १६ मंसिर २०७८</td>\n",
       "      <td>कोरोनाभाइरसको नयाँ भेरियन्ट ओमिक्रोन भारतमा पन...</td>\n",
       "      <td>https://www.himalkhabar.com/news/126936</td>\n",
       "      <td>HimalKhabar</td>\n",
       "      <td>Nepali</td>\n",
       "      <td>02-12-2021</td>\n",
       "    </tr>\n",
       "  </tbody>\n",
       "</table>\n",
       "</div>"
      ],
      "text/plain": [
       "                                                   title   category   authors  \\\n",
       "1194   ‘जनयुद्ध दिवस’ मा बिदा दिने निर्णय विरुद्धको र...     समाचार  हिमालखबर   \n",
       "9231   डा. केसी पक्ष र सरकारी टोलीबीचको वार्ता विना न...  स्वास्थ्य  हिमालखबर   \n",
       "9749   हिरासतमा भइरहेका मृत्युबारे छानबिन गर्ने संसदी...     समाचार  हिमालखबर   \n",
       "20820  संविधान संशोधन विधेयकको विरोधमा तौलिहवामा प्रद...     समाचार  हिमालखबर   \n",
       "5173   भारतमा पनि देखियो ओमिक्रोन, दुई जनामा सङ्क्रमण...   कोभिड-१९  हिमालखबर   \n",
       "\n",
       "                        Date  \\\n",
       "1194      बुधबार २२ चैत २०७९   \n",
       "9231   शुक्रबार २३ असोज २०७७   \n",
       "9749     बिहीबार १ असोज २०७७   \n",
       "20820    बिहीबार २८ पुस २०७३   \n",
       "5173   बिहीबार १६ मंसिर २०७८   \n",
       "\n",
       "                                                 content  \\\n",
       "1194   सर्वोच्च अदालतले ‘जनयुद्ध दिवस’ मा बिदा दिने स...   \n",
       "9231   चिकित्सा शिक्षा सुधारका अभियन्ता डा. गोविन्द क...   \n",
       "9749   प्रतिनिधिसभाको कानून, न्याय तथा मानवअधिकार समि...   \n",
       "20820  संविधान संशोधन विधेयकको विरोधमा कपिलवस्तुको तौ...   \n",
       "5173   कोरोनाभाइरसको नयाँ भेरियन्ट ओमिक्रोन भारतमा पन...   \n",
       "\n",
       "                                           url website_name language  \\\n",
       "1194   https://www.himalkhabar.com/news/135184  HimalKhabar   Nepali   \n",
       "9231   https://www.himalkhabar.com/news/119332  HimalKhabar   Nepali   \n",
       "9749   https://www.himalkhabar.com/news/118499  HimalKhabar   Nepali   \n",
       "20820    https://www.himalkhabar.com/news/1771  HimalKhabar   Nepali   \n",
       "5173   https://www.himalkhabar.com/news/126936  HimalKhabar   Nepali   \n",
       "\n",
       "      published_date  \n",
       "1194      05-04-2023  \n",
       "9231      09-10-2020  \n",
       "9749      17-09-2020  \n",
       "20820     12-01-2017  \n",
       "5173      02-12-2021  "
      ]
     },
     "execution_count": 16,
     "metadata": {},
     "output_type": "execute_result"
    }
   ],
   "source": [
    "# https://github.com/SushilShrestha/pyBSDate#class-based-wrappers\n",
    "\n",
    "def convert_date_time(date_):\n",
    "\n",
    "    date_split = date_.split()\n",
    "    if len(date_split) != 3:\n",
    "        date_, month_, year_ = date_split[1:]\n",
    "        month_ = months_dict[month_]\n",
    "        day_ = int(''.join([number_dict[dt] for dt in list(date_)]))\n",
    "        year_ = int(''.join([number_dict[yr] for yr in list(year_)]))\n",
    "        \n",
    "        return bsdate(year_, month_, day_).addate.strftime('%d-%m-%Y')\n",
    "    return '17-08-2023'\n",
    "\n",
    "hmimalkhabar_df['published_date'] = hmimalkhabar_df.Date.apply(convert_date_time)\n",
    "\n",
    "hmimalkhabar_df.sample(5)"
   ]
  },
  {
   "cell_type": "markdown",
   "id": "09d172c8-86b6-4258-b795-6679f17d041b",
   "metadata": {},
   "source": [
    "## Exploring data"
   ]
  },
  {
   "cell_type": "code",
   "execution_count": 17,
   "id": "ff531763-b91e-4d27-b428-72935a90d6c3",
   "metadata": {},
   "outputs": [
    {
     "name": "stdout",
     "output_type": "stream",
     "text": [
      "Number of unique categories in hmimalkhabar dataset : 61\n"
     ]
    },
    {
     "data": {
      "text/plain": [
       "category\n",
       "समाचार      17781\n",
       "राजनीति      1008\n",
       "अर्थ          339\n",
       "चुनाव         269\n",
       "कोभिड-१९      263\n",
       "अदालत         183\n",
       "Name: count, dtype: int64"
      ]
     },
     "execution_count": 17,
     "metadata": {},
     "output_type": "execute_result"
    }
   ],
   "source": [
    "# Number of categories and its counts\n",
    "\n",
    "print(f'Number of unique categories in hmimalkhabar dataset : {hmimalkhabar_df.category.nunique()}')\n",
    "hmimalkhabar_df.category.value_counts().head(6)"
   ]
  },
  {
   "cell_type": "markdown",
   "id": "d40bb653-00f0-4989-81ae-d3a4b301285a",
   "metadata": {},
   "source": [
    "## Creating final schema for saving the processed data"
   ]
  },
  {
   "cell_type": "code",
   "execution_count": 18,
   "id": "cef0eb0b-cb3a-436a-8f0c-f775df0df2d8",
   "metadata": {},
   "outputs": [
    {
     "name": "stdout",
     "output_type": "stream",
     "text": [
      "Initial dataset size = 21705\n",
      "\n",
      "Number of rows removed = 158\n",
      "\n",
      "Final useful dataset size = 21547\n",
      "\n"
     ]
    }
   ],
   "source": [
    "print(f'Initial dataset size = {original_shape[0]}\\n')\n",
    "print(f'Number of rows removed = {rows_removed + mo_of_rejected_news}\\n')\n",
    "print(f'Final useful dataset size = {hmimalkhabar_df.shape[0]}\\n')"
   ]
  },
  {
   "cell_type": "code",
   "execution_count": 19,
   "id": "5c0b821c-8073-444f-a967-d539fe927f5b",
   "metadata": {},
   "outputs": [
    {
     "name": "stdout",
     "output_type": "stream",
     "text": [
      "Shape of processed dataset = (21547, 8)\n",
      "\n"
     ]
    },
    {
     "data": {
      "text/html": [
       "<div>\n",
       "<style scoped>\n",
       "    .dataframe tbody tr th:only-of-type {\n",
       "        vertical-align: middle;\n",
       "    }\n",
       "\n",
       "    .dataframe tbody tr th {\n",
       "        vertical-align: top;\n",
       "    }\n",
       "\n",
       "    .dataframe thead th {\n",
       "        text-align: right;\n",
       "    }\n",
       "</style>\n",
       "<table border=\"1\" class=\"dataframe\">\n",
       "  <thead>\n",
       "    <tr style=\"text-align: right;\">\n",
       "      <th></th>\n",
       "      <th>website_name</th>\n",
       "      <th>category</th>\n",
       "      <th>title</th>\n",
       "      <th>authors</th>\n",
       "      <th>published_date</th>\n",
       "      <th>content</th>\n",
       "      <th>language</th>\n",
       "      <th>url</th>\n",
       "    </tr>\n",
       "  </thead>\n",
       "  <tbody>\n",
       "    <tr>\n",
       "      <th>0</th>\n",
       "      <td>HimalKhabar</td>\n",
       "      <td>समाचार</td>\n",
       "      <td>बरामद सुनको तौल ६० किलो ७१६ ग्राम कायम, तीन दि...</td>\n",
       "      <td>हिमालखबर</td>\n",
       "      <td>15-08-2023</td>\n",
       "      <td>त्रिभुवन विमानस्थलबाट बाहिरिंदै गर्दा राजस्व अ...</td>\n",
       "      <td>Nepali</td>\n",
       "      <td>https://www.himalkhabar.com/news/137535</td>\n",
       "    </tr>\n",
       "    <tr>\n",
       "      <th>1</th>\n",
       "      <td>HimalKhabar</td>\n",
       "      <td>समाचार</td>\n",
       "      <td>सप्तकोशी ब्यारेजका ५६ वटै ढोका खोलिए</td>\n",
       "      <td>हिमालखबर</td>\n",
       "      <td>14-08-2023</td>\n",
       "      <td>प्रहरी नायब उपरीक्षक सिंहले ब्यारेजमा खतराको स...</td>\n",
       "      <td>Nepali</td>\n",
       "      <td>https://www.himalkhabar.com/news/137512</td>\n",
       "    </tr>\n",
       "    <tr>\n",
       "      <th>2</th>\n",
       "      <td>HimalKhabar</td>\n",
       "      <td>समाचार</td>\n",
       "      <td>ललिता निवास प्रकरणमा के हो लीलामणि पौडेलको संल...</td>\n",
       "      <td>हिमालखबर</td>\n",
       "      <td>14-08-2023</td>\n",
       "      <td>तत्कालीन मुख्यसचिव लीलामणि पौडेलले सामाजिक समि...</td>\n",
       "      <td>Nepali</td>\n",
       "      <td>https://www.himalkhabar.com/news/137527</td>\n",
       "    </tr>\n",
       "    <tr>\n",
       "      <th>3</th>\n",
       "      <td>HimalKhabar</td>\n",
       "      <td>सरकार</td>\n",
       "      <td>जनमत सरकारमा सहभागी, साह बनिन् मन्त्री</td>\n",
       "      <td>हिमालखबर</td>\n",
       "      <td>14-08-2023</td>\n",
       "      <td>जनमत पार्टी पनि संघीय सरकारमा सहभागी भएको छ भन...</td>\n",
       "      <td>Nepali</td>\n",
       "      <td>https://www.himalkhabar.com/news/137513</td>\n",
       "    </tr>\n",
       "    <tr>\n",
       "      <th>4</th>\n",
       "      <td>HimalKhabar</td>\n",
       "      <td>समाचार</td>\n",
       "      <td>जोख्न थालियो विमानस्थलबाट बरामद सुन (तस्वीरहरू)</td>\n",
       "      <td>गोपेन राई</td>\n",
       "      <td>14-08-2023</td>\n",
       "      <td>राजस्व अनुसन्धान विभागले बरामद गरेको करीब १०० ...</td>\n",
       "      <td>Nepali</td>\n",
       "      <td>https://www.himalkhabar.com/news/137517</td>\n",
       "    </tr>\n",
       "  </tbody>\n",
       "</table>\n",
       "</div>"
      ],
      "text/plain": [
       "  website_name category                                              title  \\\n",
       "0  HimalKhabar   समाचार  बरामद सुनको तौल ६० किलो ७१६ ग्राम कायम, तीन दि...   \n",
       "1  HimalKhabar   समाचार               सप्तकोशी ब्यारेजका ५६ वटै ढोका खोलिए   \n",
       "2  HimalKhabar   समाचार  ललिता निवास प्रकरणमा के हो लीलामणि पौडेलको संल...   \n",
       "3  HimalKhabar    सरकार             जनमत सरकारमा सहभागी, साह बनिन् मन्त्री   \n",
       "4  HimalKhabar   समाचार    जोख्न थालियो विमानस्थलबाट बरामद सुन (तस्वीरहरू)   \n",
       "\n",
       "     authors published_date  \\\n",
       "0   हिमालखबर     15-08-2023   \n",
       "1   हिमालखबर     14-08-2023   \n",
       "2   हिमालखबर     14-08-2023   \n",
       "3   हिमालखबर     14-08-2023   \n",
       "4  गोपेन राई     14-08-2023   \n",
       "\n",
       "                                             content language  \\\n",
       "0  त्रिभुवन विमानस्थलबाट बाहिरिंदै गर्दा राजस्व अ...   Nepali   \n",
       "1  प्रहरी नायब उपरीक्षक सिंहले ब्यारेजमा खतराको स...   Nepali   \n",
       "2  तत्कालीन मुख्यसचिव लीलामणि पौडेलले सामाजिक समि...   Nepali   \n",
       "3  जनमत पार्टी पनि संघीय सरकारमा सहभागी भएको छ भन...   Nepali   \n",
       "4  राजस्व अनुसन्धान विभागले बरामद गरेको करीब १०० ...   Nepali   \n",
       "\n",
       "                                       url  \n",
       "0  https://www.himalkhabar.com/news/137535  \n",
       "1  https://www.himalkhabar.com/news/137512  \n",
       "2  https://www.himalkhabar.com/news/137527  \n",
       "3  https://www.himalkhabar.com/news/137513  \n",
       "4  https://www.himalkhabar.com/news/137517  "
      ]
     },
     "execution_count": 19,
     "metadata": {},
     "output_type": "execute_result"
    }
   ],
   "source": [
    "hmimalkhabar_processed = hmimalkhabar_df[['website_name', 'category', 'title', 'authors', 'published_date', 'content', 'language', 'url']].reset_index(drop = True)\n",
    "print(f'Shape of processed dataset = {hmimalkhabar_processed.shape}\\n')\n",
    "hmimalkhabar_processed.head()"
   ]
  },
  {
   "cell_type": "code",
   "execution_count": 20,
   "id": "81e065dd-291e-4c15-9078-a6bf5d127e8e",
   "metadata": {},
   "outputs": [],
   "source": [
    "hmimalkhabar_processed.to_json('hmimalkhabar_processed.json')\n",
    "hmimalkhabar_processed.to_csv('hmimalkhabar_processed.csv', index = False)"
   ]
  },
  {
   "cell_type": "code",
   "execution_count": 21,
   "id": "95cdfcf3-96b2-4db4-8b68-3010fc7f952f",
   "metadata": {},
   "outputs": [
    {
     "data": {
      "text/plain": [
       "True"
      ]
     },
     "execution_count": 21,
     "metadata": {},
     "output_type": "execute_result"
    }
   ],
   "source": [
    "hmimalkhabar_processed.shape ==  pd.read_json('hmimalkhabar_processed.json').shape"
   ]
  },
  {
   "cell_type": "code",
   "execution_count": 22,
   "id": "cd7e9cb8-d69e-434e-b9e0-cc522e45bb16",
   "metadata": {},
   "outputs": [
    {
     "data": {
      "text/plain": [
       "False"
      ]
     },
     "execution_count": 22,
     "metadata": {},
     "output_type": "execute_result"
    }
   ],
   "source": [
    "hmimalkhabar_processed.shape ==  pd.read_csv('hmimalkhabar_processed.csv').shape"
   ]
  },
  {
   "cell_type": "code",
   "execution_count": 23,
   "id": "c5ae65bc-d46f-4b1e-9493-2c4c1b270779",
   "metadata": {},
   "outputs": [
    {
     "data": {
      "text/plain": [
       "(21919, 8)"
      ]
     },
     "execution_count": 23,
     "metadata": {},
     "output_type": "execute_result"
    }
   ],
   "source": [
    "pd.read_csv('hmimalkhabar_processed.csv').shape"
   ]
  },
  {
   "cell_type": "markdown",
   "id": "52ad60a9-7399-4667-ab0d-a956452c8d1d",
   "metadata": {},
   "source": [
    "<div class=\"alert alert-warning\" role=\"alert\">\n",
    "  <p><strong><u>NOTE</u> :</strong> Indicates CSV have some reliability issue, thus uploading the JSON file</p>\n",
    "</div>"
   ]
  }
 ],
 "metadata": {
  "kernelspec": {
   "display_name": "Python 3 (ipykernel)",
   "language": "python",
   "name": "python3"
  },
  "language_info": {
   "codemirror_mode": {
    "name": "ipython",
    "version": 3
   },
   "file_extension": ".py",
   "mimetype": "text/x-python",
   "name": "python",
   "nbconvert_exporter": "python",
   "pygments_lexer": "ipython3",
   "version": "3.11.4"
  }
 },
 "nbformat": 4,
 "nbformat_minor": 5
}
