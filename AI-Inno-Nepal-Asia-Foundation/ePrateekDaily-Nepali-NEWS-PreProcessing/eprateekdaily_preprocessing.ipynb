{
 "cells": [
  {
   "cell_type": "markdown",
   "id": "e2e93dea-b1bb-4dbb-8f68-3415c614d74c",
   "metadata": {},
   "source": [
    "Data Structure:\n",
    "\n",
    "- 'website_name' : Name of the website. type: str\n",
    "- 'category': news category ( such as political, society, economy etc.)\n",
    "- 'title': title of the news. type: str, language: nepali/english\n",
    "- 'authors': name of the author, type: str, example: कारोबार संवाददाता\n",
    "- 'published_date': Date in Roman Calenader, example: December 17 2019, Tuesday\n",
    "- 'content': content of news. must be greater than 30 words. type: str\n",
    "- 'language', : language of content.\n",
    "- 'url': url of that partiular news."
   ]
  },
  {
   "cell_type": "markdown",
   "id": "811cfffa-5a41-4740-8723-96178bc54da6",
   "metadata": {},
   "source": [
    "## Importing Libraries"
   ]
  },
  {
   "cell_type": "markdown",
   "id": "11a71d6a-88c2-4456-9dcd-59f05b787069",
   "metadata": {},
   "source": [
    "Used Environment details :\n",
    "\n",
    "``` yaml\n",
    "name: epdaily_processing\n",
    "channels:\n",
    "  - defaults\n",
    "dependencies:\n",
    "  - pip=23.2.1\n",
    "  - python=3.11.4\n",
    "  - pip:\n",
    "      - jupyterlab==4.0.5\n",
    "      - pandas==2.0.3\n",
    "```"
   ]
  },
  {
   "cell_type": "code",
   "execution_count": 1,
   "id": "1a5bc6f2-5d45-40c9-880f-49b27320ece9",
   "metadata": {},
   "outputs": [],
   "source": [
    "import numpy as np\n",
    "import pandas as pd\n",
    "from glob import glob"
   ]
  },
  {
   "cell_type": "code",
   "execution_count": 2,
   "id": "840cfeb5-3969-4737-ad24-e4ca118c4602",
   "metadata": {},
   "outputs": [
    {
     "data": {
      "text/plain": [
       "['eprateekdaily_news_data.json', 'eprateekdaily_preprocessed.json']"
      ]
     },
     "execution_count": 2,
     "metadata": {},
     "output_type": "execute_result"
    }
   ],
   "source": [
    "# Lising json files inside the the directory\n",
    "glob('*.json')"
   ]
  },
  {
   "cell_type": "markdown",
   "id": "26906e4e-c09e-440e-aae6-afd3d13105a2",
   "metadata": {},
   "source": [
    "## Reading the [eprateekdaily_news_data.json](https://dagshub.com/Omdena/Nepal-Asia-Foundation/src/main/tasks/task-01-data-collection/Nepali_Newspapers/ePrateek-Daily/eprateekdaily_news_data.json) dataset"
   ]
  },
  {
   "cell_type": "code",
   "execution_count": 3,
   "id": "68298c7b-8d86-4e45-81b5-f4496dcae57f",
   "metadata": {},
   "outputs": [
    {
     "name": "stdout",
     "output_type": "stream",
     "text": [
      "Shape of the data set : (6269, 7)\n",
      "\n"
     ]
    },
    {
     "data": {
      "text/html": [
       "<div>\n",
       "<style scoped>\n",
       "    .dataframe tbody tr th:only-of-type {\n",
       "        vertical-align: middle;\n",
       "    }\n",
       "\n",
       "    .dataframe tbody tr th {\n",
       "        vertical-align: top;\n",
       "    }\n",
       "\n",
       "    .dataframe thead th {\n",
       "        text-align: right;\n",
       "    }\n",
       "</style>\n",
       "<table border=\"1\" class=\"dataframe\">\n",
       "  <thead>\n",
       "    <tr style=\"text-align: right;\">\n",
       "      <th></th>\n",
       "      <th>Title</th>\n",
       "      <th>Category</th>\n",
       "      <th>Auther</th>\n",
       "      <th>Date</th>\n",
       "      <th>Location</th>\n",
       "      <th>Content</th>\n",
       "      <th>URL</th>\n",
       "    </tr>\n",
       "  </thead>\n",
       "  <tbody>\n",
       "    <tr>\n",
       "      <th>4181</th>\n",
       "      <td>२० लाख नगदसहित साह पक्राउ</td>\n",
       "      <td>स्थानीय</td>\n",
       "      <td>प्रतीक दैनिक</td>\n",
       "      <td>कार्तिक २३, २०७८</td>\n",
       "      <td>वीरगंज</td>\n",
       "      <td>पर्सा प्रहरीले हुन्डी कारोबार गरेको अभियोगमा ए...</td>\n",
       "      <td>https://eprateekdaily.com/2021/11/09/25078</td>\n",
       "    </tr>\n",
       "    <tr>\n",
       "      <th>5611</th>\n",
       "      <td>औषधि व्यवसायीमाथि गोली प्रहार</td>\n",
       "      <td>स्थानीय</td>\n",
       "      <td>प्रतीक दैनिक</td>\n",
       "      <td>जेष्ठ २३, २०७८</td>\n",
       "      <td>सिराहा</td>\n",
       "      <td>मिर्चैया नगरपालिका–५ स्थित सिद्धि मेडिकल हलका ...</td>\n",
       "      <td>https://eprateekdaily.com/2021/06/06/14280</td>\n",
       "    </tr>\n",
       "    <tr>\n",
       "      <th>4503</th>\n",
       "      <td>वैज्ञानिक समाजवादी पार्टीको भेला</td>\n",
       "      <td>स्थानीय</td>\n",
       "      <td>प्रतीक दैनिक</td>\n",
       "      <td>अशोज ९, २०७८</td>\n",
       "      <td>वीरगंज</td>\n",
       "      <td>नेपाल पत्रकार महासङ्घ पर्साको सभाकक्षमा आयोजित...</td>\n",
       "      <td>https://eprateekdaily.com/2021/09/25/22714</td>\n",
       "    </tr>\n",
       "    <tr>\n",
       "      <th>2076</th>\n",
       "      <td>चुनावमा मत किनबेचमा सक्रिय बिचौलियाहरू सम्पर्क...</td>\n",
       "      <td>स्थानीय</td>\n",
       "      <td>प्रतीक दैनिक</td>\n",
       "      <td>मंसिर १८, २०७९</td>\n",
       "      <td>वीरगंज</td>\n",
       "      <td>हालै सम्पन्न प्रतिनिधिसभा तथा प्रदेशसभा निर्वा...</td>\n",
       "      <td>https://eprateekdaily.com/2022/12/04/43608</td>\n",
       "    </tr>\n",
       "  </tbody>\n",
       "</table>\n",
       "</div>"
      ],
      "text/plain": [
       "                                                  Title Category  \\\n",
       "4181                          २० लाख नगदसहित साह पक्राउ  स्थानीय   \n",
       "5611                      औषधि व्यवसायीमाथि गोली प्रहार  स्थानीय   \n",
       "4503                   वैज्ञानिक समाजवादी पार्टीको भेला  स्थानीय   \n",
       "2076  चुनावमा मत किनबेचमा सक्रिय बिचौलियाहरू सम्पर्क...  स्थानीय   \n",
       "\n",
       "            Auther              Date Location  \\\n",
       "4181  प्रतीक दैनिक  कार्तिक २३, २०७८   वीरगंज   \n",
       "5611  प्रतीक दैनिक    जेष्ठ २३, २०७८   सिराहा   \n",
       "4503  प्रतीक दैनिक      अशोज ९, २०७८   वीरगंज   \n",
       "2076  प्रतीक दैनिक    मंसिर १८, २०७९   वीरगंज   \n",
       "\n",
       "                                                Content  \\\n",
       "4181  पर्सा प्रहरीले हुन्डी कारोबार गरेको अभियोगमा ए...   \n",
       "5611  मिर्चैया नगरपालिका–५ स्थित सिद्धि मेडिकल हलका ...   \n",
       "4503  नेपाल पत्रकार महासङ्घ पर्साको सभाकक्षमा आयोजित...   \n",
       "2076  हालै सम्पन्न प्रतिनिधिसभा तथा प्रदेशसभा निर्वा...   \n",
       "\n",
       "                                             URL  \n",
       "4181  https://eprateekdaily.com/2021/11/09/25078  \n",
       "5611  https://eprateekdaily.com/2021/06/06/14280  \n",
       "4503  https://eprateekdaily.com/2021/09/25/22714  \n",
       "2076  https://eprateekdaily.com/2022/12/04/43608  "
      ]
     },
     "execution_count": 3,
     "metadata": {},
     "output_type": "execute_result"
    }
   ],
   "source": [
    "epdaily_df = pd.read_json('eprateekdaily_news_data.json')\n",
    "original_shape = epdaily_df.shape\n",
    "print(f'Shape of the data set : {original_shape}\\n')\n",
    "epdaily_df.sample(4)"
   ]
  },
  {
   "cell_type": "markdown",
   "id": "56396e76-27e9-4ba1-b77d-20cb3bcaa1ea",
   "metadata": {},
   "source": [
    "## Cleaning the data"
   ]
  },
  {
   "cell_type": "code",
   "execution_count": 4,
   "id": "4548e6b1-1c3d-492f-b7a8-9410640f912e",
   "metadata": {},
   "outputs": [
    {
     "data": {
      "text/plain": [
       "['Title', 'Category', 'Auther', 'Date', 'Location', 'Content', 'URL']"
      ]
     },
     "execution_count": 4,
     "metadata": {},
     "output_type": "execute_result"
    }
   ],
   "source": [
    "# Present column names\n",
    "\n",
    "list(epdaily_df.columns)"
   ]
  },
  {
   "cell_type": "code",
   "execution_count": 5,
   "id": "937117fd-6826-4a9f-a7a2-5ddebdfe0bd1",
   "metadata": {},
   "outputs": [
    {
     "data": {
      "text/html": [
       "<div>\n",
       "<style scoped>\n",
       "    .dataframe tbody tr th:only-of-type {\n",
       "        vertical-align: middle;\n",
       "    }\n",
       "\n",
       "    .dataframe tbody tr th {\n",
       "        vertical-align: top;\n",
       "    }\n",
       "\n",
       "    .dataframe thead th {\n",
       "        text-align: right;\n",
       "    }\n",
       "</style>\n",
       "<table border=\"1\" class=\"dataframe\">\n",
       "  <thead>\n",
       "    <tr style=\"text-align: right;\">\n",
       "      <th></th>\n",
       "      <th>title</th>\n",
       "      <th>category</th>\n",
       "      <th>authors</th>\n",
       "      <th>Date</th>\n",
       "      <th>content</th>\n",
       "      <th>url</th>\n",
       "      <th>website_name</th>\n",
       "      <th>language</th>\n",
       "    </tr>\n",
       "  </thead>\n",
       "  <tbody>\n",
       "    <tr>\n",
       "      <th>1487</th>\n",
       "      <td>शिक्षित व्यक्तिको मानसिकतामा परिवर्तन जरुरी –र...</td>\n",
       "      <td>स्थानीय</td>\n",
       "      <td>प्रतीक दैनिक</td>\n",
       "      <td>चैत्र ११, २०७९</td>\n",
       "      <td>उद्योग, पर्यटन तथा वनमन्त्री रहबर अन्सारीले गा...</td>\n",
       "      <td>https://eprateekdaily.com/2023/03/25/48902</td>\n",
       "      <td>eprateekdaily</td>\n",
       "      <td>Nepali</td>\n",
       "    </tr>\n",
       "    <tr>\n",
       "      <th>5999</th>\n",
       "      <td>पानी परेपछि बाली सिंचाइमा सहजता</td>\n",
       "      <td>स्थानीय</td>\n",
       "      <td>प्रतीक दैनिक</td>\n",
       "      <td>बैशाख २२, २०७८</td>\n",
       "      <td>मङ्गलवार रातिदेखि परेको पानीका कारण पर्साको ठो...</td>\n",
       "      <td>https://eprateekdaily.com/2021/05/05/12697</td>\n",
       "      <td>eprateekdaily</td>\n",
       "      <td>Nepali</td>\n",
       "    </tr>\n",
       "    <tr>\n",
       "      <th>920</th>\n",
       "      <td>इनार सफाइ गरेर पिउनेपानीको जोहो गर्दै मोतीसरवासी</td>\n",
       "      <td>स्थानीय</td>\n",
       "      <td>प्रतीक दैनिक</td>\n",
       "      <td>साउन १२, २०८०</td>\n",
       "      <td>कलैया उपमहानगरपालिका–१८ मोतीसरमा पनि चापाकल सु...</td>\n",
       "      <td>https://eprateekdaily.com/2023/07/28/54515</td>\n",
       "      <td>eprateekdaily</td>\n",
       "      <td>Nepali</td>\n",
       "    </tr>\n",
       "  </tbody>\n",
       "</table>\n",
       "</div>"
      ],
      "text/plain": [
       "                                                  title category  \\\n",
       "1487  शिक्षित व्यक्तिको मानसिकतामा परिवर्तन जरुरी –र...  स्थानीय   \n",
       "5999                    पानी परेपछि बाली सिंचाइमा सहजता  स्थानीय   \n",
       "920    इनार सफाइ गरेर पिउनेपानीको जोहो गर्दै मोतीसरवासी  स्थानीय   \n",
       "\n",
       "           authors            Date  \\\n",
       "1487  प्रतीक दैनिक  चैत्र ११, २०७९   \n",
       "5999  प्रतीक दैनिक  बैशाख २२, २०७८   \n",
       "920   प्रतीक दैनिक   साउन १२, २०८०   \n",
       "\n",
       "                                                content  \\\n",
       "1487  उद्योग, पर्यटन तथा वनमन्त्री रहबर अन्सारीले गा...   \n",
       "5999  मङ्गलवार रातिदेखि परेको पानीका कारण पर्साको ठो...   \n",
       "920   कलैया उपमहानगरपालिका–१८ मोतीसरमा पनि चापाकल सु...   \n",
       "\n",
       "                                             url   website_name language  \n",
       "1487  https://eprateekdaily.com/2023/03/25/48902  eprateekdaily   Nepali  \n",
       "5999  https://eprateekdaily.com/2021/05/05/12697  eprateekdaily   Nepali  \n",
       "920   https://eprateekdaily.com/2023/07/28/54515  eprateekdaily   Nepali  "
      ]
     },
     "execution_count": 5,
     "metadata": {},
     "output_type": "execute_result"
    }
   ],
   "source": [
    "# Unifying column names and dropping unwanted columns\n",
    "\n",
    "correcting_col_names = {'Title' : 'title', 'Category' : 'category',\n",
    "                       'Auther' : 'authors', 'Content' : 'content', \n",
    "                       'URL' : 'url'}\n",
    "\n",
    "\n",
    "epdaily_df.drop('Location', axis = 1, inplace = True) # Dropping Location column\n",
    "epdaily_df = epdaily_df.rename(columns = correcting_col_names)\n",
    "epdaily_df['website_name'] = 'eprateekdaily'\n",
    "epdaily_df['language'] = 'Nepali'\n",
    "epdaily_df.sample(3)"
   ]
  },
  {
   "cell_type": "code",
   "execution_count": 6,
   "id": "2da679c0-6f99-4944-9ee7-46e84ab3d700",
   "metadata": {},
   "outputs": [
    {
     "data": {
      "text/plain": [
       "title           1\n",
       "category        0\n",
       "authors         0\n",
       "Date            0\n",
       "content         0\n",
       "url             0\n",
       "website_name    0\n",
       "language        0\n",
       "dtype: int64"
      ]
     },
     "execution_count": 6,
     "metadata": {},
     "output_type": "execute_result"
    }
   ],
   "source": [
    "# Checking for missing value count\n",
    "\n",
    "epdaily_df.isnull().sum()"
   ]
  },
  {
   "cell_type": "code",
   "execution_count": 7,
   "id": "9579510e-f05b-4b5c-8fbc-2e30f8079f04",
   "metadata": {},
   "outputs": [
    {
     "data": {
      "text/html": [
       "<div>\n",
       "<style scoped>\n",
       "    .dataframe tbody tr th:only-of-type {\n",
       "        vertical-align: middle;\n",
       "    }\n",
       "\n",
       "    .dataframe tbody tr th {\n",
       "        vertical-align: top;\n",
       "    }\n",
       "\n",
       "    .dataframe thead th {\n",
       "        text-align: right;\n",
       "    }\n",
       "</style>\n",
       "<table border=\"1\" class=\"dataframe\">\n",
       "  <thead>\n",
       "    <tr style=\"text-align: right;\">\n",
       "      <th></th>\n",
       "      <th>title</th>\n",
       "      <th>category</th>\n",
       "      <th>authors</th>\n",
       "      <th>Date</th>\n",
       "      <th>content</th>\n",
       "      <th>url</th>\n",
       "      <th>website_name</th>\n",
       "      <th>language</th>\n",
       "    </tr>\n",
       "  </thead>\n",
       "  <tbody>\n",
       "    <tr>\n",
       "      <th>453</th>\n",
       "      <td>None</td>\n",
       "      <td>प्रमुख समाचार</td>\n",
       "      <td>प्रतीक दैनिक</td>\n",
       "      <td>बैशाख ४, २०७९</td>\n",
       "      <td>धर्मेन्द्र चौरसिया, पोखरिया, ४ वैशाख/. पोखरिया...</td>\n",
       "      <td>https://eprateekdaily.com/2022/04/17/33271</td>\n",
       "      <td>eprateekdaily</td>\n",
       "      <td>Nepali</td>\n",
       "    </tr>\n",
       "  </tbody>\n",
       "</table>\n",
       "</div>"
      ],
      "text/plain": [
       "    title       category       authors           Date  \\\n",
       "453  None  प्रमुख समाचार  प्रतीक दैनिक  बैशाख ४, २०७९   \n",
       "\n",
       "                                               content  \\\n",
       "453  धर्मेन्द्र चौरसिया, पोखरिया, ४ वैशाख/. पोखरिया...   \n",
       "\n",
       "                                            url   website_name language  \n",
       "453  https://eprateekdaily.com/2022/04/17/33271  eprateekdaily   Nepali  "
      ]
     },
     "execution_count": 7,
     "metadata": {},
     "output_type": "execute_result"
    }
   ],
   "source": [
    "# Visualizing missing title data\n",
    "\n",
    "epdaily_df[epdaily_df.title.isnull()]"
   ]
  },
  {
   "cell_type": "markdown",
   "id": "21a8079c-58ce-4983-88bb-7f6611039025",
   "metadata": {},
   "source": [
    "<p><strong>This shows the NEWS itself doesn't have any titile.</strong> So retaining the news.</p>\n",
    "\n",
    "<a href = 'https://eprateekdaily.com/2022/04/17/33271' alt = 'https://eprateekdaily.com/2022/04/17/33271'><img src = 'https://user-images.githubusercontent.com/83589431/262086948-c0f9978c-2346-4fec-98f7-cb5059af4b9d.png'></a>"
   ]
  },
  {
   "cell_type": "markdown",
   "id": "a5d975fb-0d60-4670-8295-1f7cd5a9e658",
   "metadata": {},
   "source": [
    "## Check for NEWS length"
   ]
  },
  {
   "cell_type": "code",
   "execution_count": 8,
   "id": "e92ce0de-3be8-474a-b3d6-958522634b2b",
   "metadata": {},
   "outputs": [
    {
     "name": "stdout",
     "output_type": "stream",
     "text": [
      "Number of NEWS doesn't have  atleast 30 words = 14\n"
     ]
    }
   ],
   "source": [
    "# Checking news contents that have atleast 30 words init.\n",
    "\n",
    "def content_length_30(text):\n",
    "    if len(text.split()) < 30:\n",
    "        return np.nan\n",
    "    return text.replace(' .', '')\n",
    "\n",
    "epdaily_df.content = epdaily_df.content.apply(content_length_30)\n",
    "print(f\"Number of NEWS doesn't have  atleast 30 words = {epdaily_df.content.isnull().sum()}\")"
   ]
  },
  {
   "cell_type": "code",
   "execution_count": 9,
   "id": "7b648651-58a1-4541-886d-191e4b904c11",
   "metadata": {},
   "outputs": [
    {
     "data": {
      "text/plain": [
       "title           1\n",
       "category        0\n",
       "authors         0\n",
       "Date            0\n",
       "content         0\n",
       "url             0\n",
       "website_name    0\n",
       "language        0\n",
       "dtype: int64"
      ]
     },
     "execution_count": 9,
     "metadata": {},
     "output_type": "execute_result"
    }
   ],
   "source": [
    "# Dropping rows where 'contents' doesn't have atleast 30 words\n",
    "\n",
    "epdaily_df.dropna(subset = 'content', inplace = True)\n",
    "epdaily_df.isnull().sum()"
   ]
  },
  {
   "cell_type": "markdown",
   "id": "c8d7d02e-7551-4bfe-9e89-e94e226ee716",
   "metadata": {},
   "source": [
    "## Check for dupllicates"
   ]
  },
  {
   "cell_type": "code",
   "execution_count": 10,
   "id": "115bb041-d049-4d1a-a86c-ea228a98901f",
   "metadata": {},
   "outputs": [
    {
     "data": {
      "text/plain": [
       "0"
      ]
     },
     "execution_count": 10,
     "metadata": {},
     "output_type": "execute_result"
    }
   ],
   "source": [
    "# Checking number of duplicates\n",
    "\n",
    "epdaily_df.duplicated().sum()"
   ]
  },
  {
   "cell_type": "code",
   "execution_count": 11,
   "id": "afea62b0-55b7-4457-a706-0107a0e344f5",
   "metadata": {},
   "outputs": [
    {
     "name": "stdout",
     "output_type": "stream",
     "text": [
      "Number of ducplicate records in the dataset (based on url) = 5\n",
      "\n"
     ]
    },
    {
     "data": {
      "text/html": [
       "<div>\n",
       "<style scoped>\n",
       "    .dataframe tbody tr th:only-of-type {\n",
       "        vertical-align: middle;\n",
       "    }\n",
       "\n",
       "    .dataframe tbody tr th {\n",
       "        vertical-align: top;\n",
       "    }\n",
       "\n",
       "    .dataframe thead th {\n",
       "        text-align: right;\n",
       "    }\n",
       "</style>\n",
       "<table border=\"1\" class=\"dataframe\">\n",
       "  <thead>\n",
       "    <tr style=\"text-align: right;\">\n",
       "      <th></th>\n",
       "      <th>title</th>\n",
       "      <th>category</th>\n",
       "      <th>authors</th>\n",
       "      <th>Date</th>\n",
       "      <th>content</th>\n",
       "      <th>url</th>\n",
       "      <th>website_name</th>\n",
       "      <th>language</th>\n",
       "    </tr>\n",
       "  </thead>\n",
       "  <tbody>\n",
       "    <tr>\n",
       "      <th>1259</th>\n",
       "      <td>सर्लाहीको सीमावर्ती क्षेत्रमा भारुको कारोबार बन्द</td>\n",
       "      <td>स्थानीय</td>\n",
       "      <td>प्रतीक दैनिक</td>\n",
       "      <td>जेष्ठ २, २०८०</td>\n",
       "      <td>भारुको अवमूल्यन जारी रहँदा सीमावर्ती क्षेत्र स...</td>\n",
       "      <td>https://eprateekdaily.com/2023/05/16/51157</td>\n",
       "      <td>eprateekdaily</td>\n",
       "      <td>Nepali</td>\n",
       "    </tr>\n",
       "    <tr>\n",
       "      <th>3369</th>\n",
       "      <td>एमालेमा प्रवेश गर्नेको लहर चलेको छ –प्रम ओली</td>\n",
       "      <td>स्थानीय</td>\n",
       "      <td>प्रतीक दैनिक</td>\n",
       "      <td>फाल्गुन २८, २०७८</td>\n",
       "      <td>नेकपा एमालेको जनसभा एवं बृहत् पार्टी प्रवेश का...</td>\n",
       "      <td>https://eprateekdaily.com/2022/03/12/31940</td>\n",
       "      <td>eprateekdaily</td>\n",
       "      <td>Nepali</td>\n",
       "    </tr>\n",
       "    <tr>\n",
       "      <th>4969</th>\n",
       "      <td>मोटरसाइकल चोरीमा प्रहरीको संलग्नता, पार्टपुर्ज...</td>\n",
       "      <td>स्थानीय</td>\n",
       "      <td>प्रतीक दैनिक</td>\n",
       "      <td>साउन २३, २०७८</td>\n",
       "      <td>वीरगंज र आसपासका क्षेत्रमा हुने मोटरसाइकल चोरी...</td>\n",
       "      <td>https://eprateekdaily.com/2021/08/07/19188</td>\n",
       "      <td>eprateekdaily</td>\n",
       "      <td>Nepali</td>\n",
       "    </tr>\n",
       "    <tr>\n",
       "      <th>5075</th>\n",
       "      <td>पर्सामा जानसिन खोप लिन मानिसको भीड</td>\n",
       "      <td>स्थानीय</td>\n",
       "      <td>प्रतीक दैनिक</td>\n",
       "      <td>साउन १२, २०७८</td>\n",
       "      <td>पर्सा जिल्लामा अमेरिकी कम्पनी जोन्सन एन्ड जोन्...</td>\n",
       "      <td>https://eprateekdaily.com/2021/07/27/18402</td>\n",
       "      <td>eprateekdaily</td>\n",
       "      <td>Nepali</td>\n",
       "    </tr>\n",
       "    <tr>\n",
       "      <th>5438</th>\n",
       "      <td>५३ दिनपछि वीरगंज बजार खुला</td>\n",
       "      <td>स्थानीय</td>\n",
       "      <td>प्रतीक दैनिक</td>\n",
       "      <td>असार ७, २०७८</td>\n",
       "      <td>पर्सा जिल्लामा निषेधाज्ञा जारी भएको ५३औं दिनपछ...</td>\n",
       "      <td>https://eprateekdaily.com/2021/06/21/15150</td>\n",
       "      <td>eprateekdaily</td>\n",
       "      <td>Nepali</td>\n",
       "    </tr>\n",
       "  </tbody>\n",
       "</table>\n",
       "</div>"
      ],
      "text/plain": [
       "                                                  title category  \\\n",
       "1259  सर्लाहीको सीमावर्ती क्षेत्रमा भारुको कारोबार बन्द  स्थानीय   \n",
       "3369       एमालेमा प्रवेश गर्नेको लहर चलेको छ –प्रम ओली  स्थानीय   \n",
       "4969  मोटरसाइकल चोरीमा प्रहरीको संलग्नता, पार्टपुर्ज...  स्थानीय   \n",
       "5075                 पर्सामा जानसिन खोप लिन मानिसको भीड  स्थानीय   \n",
       "5438                         ५३ दिनपछि वीरगंज बजार खुला  स्थानीय   \n",
       "\n",
       "           authors              Date  \\\n",
       "1259  प्रतीक दैनिक     जेष्ठ २, २०८०   \n",
       "3369  प्रतीक दैनिक  फाल्गुन २८, २०७८   \n",
       "4969  प्रतीक दैनिक     साउन २३, २०७८   \n",
       "5075  प्रतीक दैनिक     साउन १२, २०७८   \n",
       "5438  प्रतीक दैनिक      असार ७, २०७८   \n",
       "\n",
       "                                                content  \\\n",
       "1259  भारुको अवमूल्यन जारी रहँदा सीमावर्ती क्षेत्र स...   \n",
       "3369  नेकपा एमालेको जनसभा एवं बृहत् पार्टी प्रवेश का...   \n",
       "4969  वीरगंज र आसपासका क्षेत्रमा हुने मोटरसाइकल चोरी...   \n",
       "5075  पर्सा जिल्लामा अमेरिकी कम्पनी जोन्सन एन्ड जोन्...   \n",
       "5438  पर्सा जिल्लामा निषेधाज्ञा जारी भएको ५३औं दिनपछ...   \n",
       "\n",
       "                                             url   website_name language  \n",
       "1259  https://eprateekdaily.com/2023/05/16/51157  eprateekdaily   Nepali  \n",
       "3369  https://eprateekdaily.com/2022/03/12/31940  eprateekdaily   Nepali  \n",
       "4969  https://eprateekdaily.com/2021/08/07/19188  eprateekdaily   Nepali  \n",
       "5075  https://eprateekdaily.com/2021/07/27/18402  eprateekdaily   Nepali  \n",
       "5438  https://eprateekdaily.com/2021/06/21/15150  eprateekdaily   Nepali  "
      ]
     },
     "execution_count": 11,
     "metadata": {},
     "output_type": "execute_result"
    }
   ],
   "source": [
    "# Further Checking for duplicates\n",
    "\n",
    "duplicates_df = epdaily_df[epdaily_df.duplicated(subset = 'url')]\n",
    "rows_removed = duplicates_df.shape[0]\n",
    "print(f'Number of ducplicate records in the dataset (based on url) = {rows_removed}\\n')\n",
    "duplicates_df.head()"
   ]
  },
  {
   "cell_type": "code",
   "execution_count": 12,
   "id": "5ba00c3e-2c5f-42dd-9232-818915627be7",
   "metadata": {},
   "outputs": [
    {
     "data": {
      "text/plain": [
       "(6250, 8)"
      ]
     },
     "execution_count": 12,
     "metadata": {},
     "output_type": "execute_result"
    }
   ],
   "source": [
    "# Removing dulpicated rows\n",
    "\n",
    "epdaily_df.drop_duplicates(subset = 'url', inplace = True)\n",
    "epdaily_df.shape"
   ]
  },
  {
   "cell_type": "markdown",
   "id": "bf18ec63-8bb6-4be2-9296-da980a6cede8",
   "metadata": {},
   "source": [
    "## Coverting BS calendar (Bikram Samwat) to Roman calendar"
   ]
  },
  {
   "cell_type": "code",
   "execution_count": 13,
   "id": "c6baab46-21ba-4d19-b9c6-a0d4fa071c98",
   "metadata": {},
   "outputs": [],
   "source": [
    "# https://github.com/SushilShrestha/pyBSDate#class-based-wrappers\n",
    "\n",
    "def url_to_date(date_time):\n",
    "    \n",
    "    year_, month_, date = date_time.split('/')[-4:-1]\n",
    "    return pd.to_datetime(f'{date}{month_}{year_}', format = '%d%m%Y').strftime('%d-%m-%Y')\n",
    "\n",
    "epdaily_df['published_date'] = epdaily_df.url.apply(url_to_date)\n",
    "# epdaily_df['published_date'] = pd.to_datetime(epdaily_df.published_date, format = '%d-%m-%Y')"
   ]
  },
  {
   "cell_type": "markdown",
   "id": "09d172c8-86b6-4258-b795-6679f17d041b",
   "metadata": {},
   "source": [
    "## Exploring data"
   ]
  },
  {
   "cell_type": "code",
   "execution_count": 14,
   "id": "ff531763-b91e-4d27-b428-72935a90d6c3",
   "metadata": {},
   "outputs": [
    {
     "data": {
      "text/plain": [
       "स्थानीय          5444\n",
       "प्रमुख समाचार     806\n",
       "Name: category, dtype: int64"
      ]
     },
     "execution_count": 14,
     "metadata": {},
     "output_type": "execute_result"
    }
   ],
   "source": [
    "# Number of categories and its counts\n",
    "\n",
    "epdaily_df.category.value_counts()"
   ]
  },
  {
   "cell_type": "markdown",
   "id": "d40bb653-00f0-4989-81ae-d3a4b301285a",
   "metadata": {},
   "source": [
    "## Creating final schema for saving the processed data"
   ]
  },
  {
   "cell_type": "code",
   "execution_count": 15,
   "id": "cef0eb0b-cb3a-436a-8f0c-f775df0df2d8",
   "metadata": {},
   "outputs": [
    {
     "name": "stdout",
     "output_type": "stream",
     "text": [
      "Initial dataset size = 6269\n",
      "\n",
      "Number of duplicate rows removed = 5\n",
      "\n",
      "Final useful dataset size = 6250\n",
      "\n"
     ]
    }
   ],
   "source": [
    "print(f'Initial dataset size = {original_shape[0]}\\n')\n",
    "print(f'Number of duplicate rows removed = {rows_removed}\\n')\n",
    "print(f'Final useful dataset size = {epdaily_df.shape[0]}\\n')"
   ]
  },
  {
   "cell_type": "code",
   "execution_count": 16,
   "id": "5c0b821c-8073-444f-a967-d539fe927f5b",
   "metadata": {},
   "outputs": [
    {
     "data": {
      "text/html": [
       "<div>\n",
       "<style scoped>\n",
       "    .dataframe tbody tr th:only-of-type {\n",
       "        vertical-align: middle;\n",
       "    }\n",
       "\n",
       "    .dataframe tbody tr th {\n",
       "        vertical-align: top;\n",
       "    }\n",
       "\n",
       "    .dataframe thead th {\n",
       "        text-align: right;\n",
       "    }\n",
       "</style>\n",
       "<table border=\"1\" class=\"dataframe\">\n",
       "  <thead>\n",
       "    <tr style=\"text-align: right;\">\n",
       "      <th></th>\n",
       "      <th>website_name</th>\n",
       "      <th>category</th>\n",
       "      <th>title</th>\n",
       "      <th>authors</th>\n",
       "      <th>published_date</th>\n",
       "      <th>content</th>\n",
       "      <th>language</th>\n",
       "      <th>url</th>\n",
       "    </tr>\n",
       "  </thead>\n",
       "  <tbody>\n",
       "    <tr>\n",
       "      <th>0</th>\n",
       "      <td>eprateekdaily</td>\n",
       "      <td>प्रमुख समाचार</td>\n",
       "      <td>पर्साका शिक्षकहरू वीरगंजमा ओइरिए, -यालीपछि धर्ना</td>\n",
       "      <td>प्रतीक दैनिक</td>\n",
       "      <td>16-08-2023</td>\n",
       "      <td>नेपाल शिक्षक महासङ्घ केन्द्रले मस्यौदाको विरोध...</td>\n",
       "      <td>Nepali</td>\n",
       "      <td>https://eprateekdaily.com/2023/08/16/55307</td>\n",
       "    </tr>\n",
       "    <tr>\n",
       "      <th>1</th>\n",
       "      <td>eprateekdaily</td>\n",
       "      <td>प्रमुख समाचार</td>\n",
       "      <td>मिटरब्याजीमा राजनीतिक हस्तक्षेप बढ्दो</td>\n",
       "      <td>प्रतीक दैनिक</td>\n",
       "      <td>15-08-2023</td>\n",
       "      <td>राजनीतिका कारण मुख्य दोषीहरू विभिन्न बहाना बना...</td>\n",
       "      <td>Nepali</td>\n",
       "      <td>https://eprateekdaily.com/2023/08/15/55253</td>\n",
       "    </tr>\n",
       "    <tr>\n",
       "      <th>2</th>\n",
       "      <td>eprateekdaily</td>\n",
       "      <td>प्रमुख समाचार</td>\n",
       "      <td>शिक्षा ऐनको विरोधमा शिक्षकद्वारा पालिका कार्या...</td>\n",
       "      <td>प्रतीक दैनिक</td>\n",
       "      <td>14-08-2023</td>\n",
       "      <td>नेपाल शिक्षक महासङ्घ, पर्साका अध्यक्ष प्रदीप ज...</td>\n",
       "      <td>Nepali</td>\n",
       "      <td>https://eprateekdaily.com/2023/08/14/55191</td>\n",
       "    </tr>\n",
       "    <tr>\n",
       "      <th>3</th>\n",
       "      <td>eprateekdaily</td>\n",
       "      <td>प्रमुख समाचार</td>\n",
       "      <td>निर्माणाधीन दुधौरा पुलको डाइभर्सनमा विभाग र ठे...</td>\n",
       "      <td>प्रतीक दैनिक</td>\n",
       "      <td>17-08-2023</td>\n",
       "      <td>पूर्व–पश्चिम महेन्द्र राजमार्ग अन्तर्गतका सडकख...</td>\n",
       "      <td>Nepali</td>\n",
       "      <td>https://eprateekdaily.com/2023/08/17/55355</td>\n",
       "    </tr>\n",
       "    <tr>\n",
       "      <th>4</th>\n",
       "      <td>eprateekdaily</td>\n",
       "      <td>प्रमुख समाचार</td>\n",
       "      <td>बाढीले फास्ट ट्र्याकको पुल निर्माण गर्ने मेशिन...</td>\n",
       "      <td>प्रतीक दैनिक</td>\n",
       "      <td>18-08-2023</td>\n",
       "      <td>दु्रतमार्गको जसपालस्थित ८ नम्बर पुलको पाइलिङ म...</td>\n",
       "      <td>Nepali</td>\n",
       "      <td>https://eprateekdaily.com/2023/08/18/55399</td>\n",
       "    </tr>\n",
       "  </tbody>\n",
       "</table>\n",
       "</div>"
      ],
      "text/plain": [
       "    website_name       category  \\\n",
       "0  eprateekdaily  प्रमुख समाचार   \n",
       "1  eprateekdaily  प्रमुख समाचार   \n",
       "2  eprateekdaily  प्रमुख समाचार   \n",
       "3  eprateekdaily  प्रमुख समाचार   \n",
       "4  eprateekdaily  प्रमुख समाचार   \n",
       "\n",
       "                                               title       authors  \\\n",
       "0   पर्साका शिक्षकहरू वीरगंजमा ओइरिए, -यालीपछि धर्ना  प्रतीक दैनिक   \n",
       "1              मिटरब्याजीमा राजनीतिक हस्तक्षेप बढ्दो  प्रतीक दैनिक   \n",
       "2  शिक्षा ऐनको विरोधमा शिक्षकद्वारा पालिका कार्या...  प्रतीक दैनिक   \n",
       "3  निर्माणाधीन दुधौरा पुलको डाइभर्सनमा विभाग र ठे...  प्रतीक दैनिक   \n",
       "4  बाढीले फास्ट ट्र्याकको पुल निर्माण गर्ने मेशिन...  प्रतीक दैनिक   \n",
       "\n",
       "  published_date                                            content language  \\\n",
       "0     16-08-2023  नेपाल शिक्षक महासङ्घ केन्द्रले मस्यौदाको विरोध...   Nepali   \n",
       "1     15-08-2023  राजनीतिका कारण मुख्य दोषीहरू विभिन्न बहाना बना...   Nepali   \n",
       "2     14-08-2023  नेपाल शिक्षक महासङ्घ, पर्साका अध्यक्ष प्रदीप ज...   Nepali   \n",
       "3     17-08-2023  पूर्व–पश्चिम महेन्द्र राजमार्ग अन्तर्गतका सडकख...   Nepali   \n",
       "4     18-08-2023  दु्रतमार्गको जसपालस्थित ८ नम्बर पुलको पाइलिङ म...   Nepali   \n",
       "\n",
       "                                          url  \n",
       "0  https://eprateekdaily.com/2023/08/16/55307  \n",
       "1  https://eprateekdaily.com/2023/08/15/55253  \n",
       "2  https://eprateekdaily.com/2023/08/14/55191  \n",
       "3  https://eprateekdaily.com/2023/08/17/55355  \n",
       "4  https://eprateekdaily.com/2023/08/18/55399  "
      ]
     },
     "execution_count": 16,
     "metadata": {},
     "output_type": "execute_result"
    }
   ],
   "source": [
    "epdaily_processed = epdaily_df[['website_name', 'category', 'title', 'authors', 'published_date', 'content', 'language', 'url']].reset_index(drop = True)\n",
    "epdaily_processed.head()"
   ]
  },
  {
   "cell_type": "code",
   "execution_count": 17,
   "id": "81e065dd-291e-4c15-9078-a6bf5d127e8e",
   "metadata": {},
   "outputs": [],
   "source": [
    "epdaily_processed.to_json('eprateekdaily_preprocessed.json')\n",
    "epdaily_processed.to_csv('eprateekdaily_preprocessed.csv', index = False)"
   ]
  },
  {
   "cell_type": "code",
   "execution_count": 18,
   "id": "95cdfcf3-96b2-4db4-8b68-3010fc7f952f",
   "metadata": {},
   "outputs": [
    {
     "data": {
      "text/plain": [
       "True"
      ]
     },
     "execution_count": 18,
     "metadata": {},
     "output_type": "execute_result"
    }
   ],
   "source": [
    "epdaily_processed.shape ==  pd.read_json('eprateekdaily_preprocessed.json').shape"
   ]
  },
  {
   "cell_type": "code",
   "execution_count": 19,
   "id": "cd7e9cb8-d69e-434e-b9e0-cc522e45bb16",
   "metadata": {},
   "outputs": [
    {
     "data": {
      "text/plain": [
       "True"
      ]
     },
     "execution_count": 19,
     "metadata": {},
     "output_type": "execute_result"
    }
   ],
   "source": [
    "epdaily_processed.shape ==  pd.read_csv('eprateekdaily_preprocessed.csv').shape"
   ]
  }
 ],
 "metadata": {
  "kernelspec": {
   "display_name": "Python 3 (ipykernel)",
   "language": "python",
   "name": "python3"
  },
  "language_info": {
   "codemirror_mode": {
    "name": "ipython",
    "version": 3
   },
   "file_extension": ".py",
   "mimetype": "text/x-python",
   "name": "python",
   "nbconvert_exporter": "python",
   "pygments_lexer": "ipython3",
   "version": "3.9.7"
  }
 },
 "nbformat": 4,
 "nbformat_minor": 5
}
