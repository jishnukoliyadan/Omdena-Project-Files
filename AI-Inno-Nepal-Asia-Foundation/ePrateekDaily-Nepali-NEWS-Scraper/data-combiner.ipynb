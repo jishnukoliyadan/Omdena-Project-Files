{
 "cells": [
  {
   "cell_type": "code",
   "execution_count": 1,
   "id": "c01749ee-6696-4944-b14e-2039ba27ffe5",
   "metadata": {},
   "outputs": [],
   "source": [
    "import pandas as pd\n",
    "from tqdm import tqdm\n",
    "import json\n",
    "import numpy as np\n",
    "import os\n",
    "from glob import glob"
   ]
  },
  {
   "cell_type": "code",
   "execution_count": 2,
   "id": "8d6f2ee8-0333-4542-add7-6b642eeed81d",
   "metadata": {},
   "outputs": [
    {
     "data": {
      "text/plain": [
       "['major/major_news_collections-0-23.json',\n",
       " 'major/major_news_collections-20+.json']"
      ]
     },
     "execution_count": 2,
     "metadata": {},
     "output_type": "execute_result"
    }
   ],
   "source": [
    "sorted(glob('major/*.json'))"
   ]
  },
  {
   "cell_type": "code",
   "execution_count": 3,
   "id": "a061575a-aba5-4c65-bae0-75fe430f3a99",
   "metadata": {},
   "outputs": [],
   "source": [
    "def content_get(value):\n",
    "    if isinstance(value, str):\n",
    "        if len(value) < 1 : return np.nan\n",
    "    return value"
   ]
  },
  {
   "cell_type": "code",
   "execution_count": 4,
   "id": "3dd04b70-9f52-474a-9517-9db46d102802",
   "metadata": {},
   "outputs": [
    {
     "name": "stdout",
     "output_type": "stream",
     "text": [
      "Data collection size : (806, 7)\n",
      "\n"
     ]
    },
    {
     "data": {
      "text/html": [
       "<div>\n",
       "<style scoped>\n",
       "    .dataframe tbody tr th:only-of-type {\n",
       "        vertical-align: middle;\n",
       "    }\n",
       "\n",
       "    .dataframe tbody tr th {\n",
       "        vertical-align: top;\n",
       "    }\n",
       "\n",
       "    .dataframe thead th {\n",
       "        text-align: right;\n",
       "    }\n",
       "</style>\n",
       "<table border=\"1\" class=\"dataframe\">\n",
       "  <thead>\n",
       "    <tr style=\"text-align: right;\">\n",
       "      <th></th>\n",
       "      <th>Title</th>\n",
       "      <th>Category</th>\n",
       "      <th>Auther</th>\n",
       "      <th>Date</th>\n",
       "      <th>Location</th>\n",
       "      <th>Content</th>\n",
       "      <th>URL</th>\n",
       "    </tr>\n",
       "  </thead>\n",
       "  <tbody>\n",
       "    <tr>\n",
       "      <th>0</th>\n",
       "      <td>पर्साका शिक्षकहरू वीरगंजमा ओइरिए, -यालीपछि धर्ना</td>\n",
       "      <td>प्रमुख समाचार</td>\n",
       "      <td>प्रतीक दैनिक</td>\n",
       "      <td>साउन ३१, २०८०</td>\n",
       "      <td>वीरगंज</td>\n",
       "      <td>नेपाल शिक्षक महासङ्घ केन्द्रले मस्यौदाको विरोध...</td>\n",
       "      <td>https://eprateekdaily.com/2023/08/16/55307</td>\n",
       "    </tr>\n",
       "    <tr>\n",
       "      <th>1</th>\n",
       "      <td>मिटरब्याजीमा राजनीतिक हस्तक्षेप बढ्दो</td>\n",
       "      <td>प्रमुख समाचार</td>\n",
       "      <td>प्रतीक दैनिक</td>\n",
       "      <td>साउन ३०, २०८०</td>\n",
       "      <td>वीरगंज</td>\n",
       "      <td>राजनीतिका कारण मुख्य दोषीहरू विभिन्न बहाना बना...</td>\n",
       "      <td>https://eprateekdaily.com/2023/08/15/55253</td>\n",
       "    </tr>\n",
       "    <tr>\n",
       "      <th>2</th>\n",
       "      <td>शिक्षा ऐनको विरोधमा शिक्षकद्वारा पालिका कार्या...</td>\n",
       "      <td>प्रमुख समाचार</td>\n",
       "      <td>प्रतीक दैनिक</td>\n",
       "      <td>साउन २९, २०८०</td>\n",
       "      <td>वीरगंज</td>\n",
       "      <td>नेपाल शिक्षक महासङ्घ, पर्साका अध्यक्ष प्रदीप ज...</td>\n",
       "      <td>https://eprateekdaily.com/2023/08/14/55191</td>\n",
       "    </tr>\n",
       "    <tr>\n",
       "      <th>3</th>\n",
       "      <td>निर्माणाधीन दुधौरा पुलको डाइभर्सनमा विभाग र ठे...</td>\n",
       "      <td>प्रमुख समाचार</td>\n",
       "      <td>प्रतीक दैनिक</td>\n",
       "      <td>साउन ३२, २०८०</td>\n",
       "      <td>निजगढ</td>\n",
       "      <td>पूर्व–पश्चिम महेन्द्र राजमार्ग अन्तर्गतका सडकख...</td>\n",
       "      <td>https://eprateekdaily.com/2023/08/17/55355</td>\n",
       "    </tr>\n",
       "    <tr>\n",
       "      <th>4</th>\n",
       "      <td>बाढीले फास्ट ट्र्याकको पुल निर्माण गर्ने मेशिन...</td>\n",
       "      <td>प्रमुख समाचार</td>\n",
       "      <td>प्रतीक दैनिक</td>\n",
       "      <td>भदौ १, २०८०</td>\n",
       "      <td>निजगढ</td>\n",
       "      <td>दु्रतमार्गको जसपालस्थित ८ नम्बर पुलको पाइलिङ म...</td>\n",
       "      <td>https://eprateekdaily.com/2023/08/18/55399</td>\n",
       "    </tr>\n",
       "  </tbody>\n",
       "</table>\n",
       "</div>"
      ],
      "text/plain": [
       "                                               Title       Category  \\\n",
       "0   पर्साका शिक्षकहरू वीरगंजमा ओइरिए, -यालीपछि धर्ना  प्रमुख समाचार   \n",
       "1              मिटरब्याजीमा राजनीतिक हस्तक्षेप बढ्दो  प्रमुख समाचार   \n",
       "2  शिक्षा ऐनको विरोधमा शिक्षकद्वारा पालिका कार्या...  प्रमुख समाचार   \n",
       "3  निर्माणाधीन दुधौरा पुलको डाइभर्सनमा विभाग र ठे...  प्रमुख समाचार   \n",
       "4  बाढीले फास्ट ट्र्याकको पुल निर्माण गर्ने मेशिन...  प्रमुख समाचार   \n",
       "\n",
       "         Auther           Date Location  \\\n",
       "0  प्रतीक दैनिक  साउन ३१, २०८०   वीरगंज   \n",
       "1  प्रतीक दैनिक  साउन ३०, २०८०   वीरगंज   \n",
       "2  प्रतीक दैनिक  साउन २९, २०८०   वीरगंज   \n",
       "3  प्रतीक दैनिक  साउन ३२, २०८०    निजगढ   \n",
       "4  प्रतीक दैनिक    भदौ १, २०८०    निजगढ   \n",
       "\n",
       "                                             Content  \\\n",
       "0  नेपाल शिक्षक महासङ्घ केन्द्रले मस्यौदाको विरोध...   \n",
       "1  राजनीतिका कारण मुख्य दोषीहरू विभिन्न बहाना बना...   \n",
       "2  नेपाल शिक्षक महासङ्घ, पर्साका अध्यक्ष प्रदीप ज...   \n",
       "3  पूर्व–पश्चिम महेन्द्र राजमार्ग अन्तर्गतका सडकख...   \n",
       "4  दु्रतमार्गको जसपालस्थित ८ नम्बर पुलको पाइलिङ म...   \n",
       "\n",
       "                                          URL  \n",
       "0  https://eprateekdaily.com/2023/08/16/55307  \n",
       "1  https://eprateekdaily.com/2023/08/15/55253  \n",
       "2  https://eprateekdaily.com/2023/08/14/55191  \n",
       "3  https://eprateekdaily.com/2023/08/17/55355  \n",
       "4  https://eprateekdaily.com/2023/08/18/55399  "
      ]
     },
     "execution_count": 4,
     "metadata": {},
     "output_type": "execute_result"
    }
   ],
   "source": [
    "combined_df = pd.DataFrame()\n",
    "for file in sorted(glob('major/*.json')):\n",
    "    temp_df = pd.read_json(file)\n",
    "    temp_df.index = np.array(temp_df.index) + combined_df.shape[0]\n",
    "    combined_df = pd.concat([combined_df, temp_df])\n",
    "\n",
    "combined_df.Content = combined_df.Content.apply(content_get)\n",
    "combined_df.URL = combined_df.URL.apply(content_get)\n",
    "\n",
    "combined_df = combined_df.drop_duplicates(subset = 'URL')\n",
    "\n",
    "combined_df[combined_df['Content'].isnull()].reset_index(drop = True).to_json('eprateekdaily_major_news_conetent_missing.json')\n",
    "combined_df = combined_df.dropna(how = 'any', subset = 'Content').reset_index(drop = True)\n",
    "combined_df.to_json('eprateekdaily_major_news_data.json')\n",
    "\n",
    "print(f'Data collection size : {combined_df.shape}\\n')\n",
    "combined_df.head()"
   ]
  },
  {
   "cell_type": "code",
   "execution_count": 5,
   "id": "cb3488ea-ff1e-4bb6-b17d-fb4d69407018",
   "metadata": {
    "scrolled": true
   },
   "outputs": [
    {
     "data": {
      "text/plain": [
       "['local/local_news-0-83_collections.json',\n",
       " 'local/local_news-080-100_collections.json',\n",
       " 'local/local_news-100-200_collections.json',\n",
       " 'local/local_news-200-300_collections.json',\n",
       " 'local/local_news-300-400_collections.json',\n",
       " 'local/local_news-400-500_collections.json',\n",
       " 'local/local_news-500-595_collections.json',\n",
       " 'local/local_news-595-600_collections.json',\n",
       " 'local/local_news-600+_collections.json']"
      ]
     },
     "execution_count": 5,
     "metadata": {},
     "output_type": "execute_result"
    }
   ],
   "source": [
    "sorted(glob('local/*.json'))"
   ]
  },
  {
   "cell_type": "code",
   "execution_count": 6,
   "id": "f48400d4-7dfa-4dd3-b445-f620150a6277",
   "metadata": {},
   "outputs": [
    {
     "name": "stdout",
     "output_type": "stream",
     "text": [
      "Data collection size : (5463, 7)\n",
      "\n"
     ]
    },
    {
     "data": {
      "text/html": [
       "<div>\n",
       "<style scoped>\n",
       "    .dataframe tbody tr th:only-of-type {\n",
       "        vertical-align: middle;\n",
       "    }\n",
       "\n",
       "    .dataframe tbody tr th {\n",
       "        vertical-align: top;\n",
       "    }\n",
       "\n",
       "    .dataframe thead th {\n",
       "        text-align: right;\n",
       "    }\n",
       "</style>\n",
       "<table border=\"1\" class=\"dataframe\">\n",
       "  <thead>\n",
       "    <tr style=\"text-align: right;\">\n",
       "      <th></th>\n",
       "      <th>Title</th>\n",
       "      <th>Category</th>\n",
       "      <th>Auther</th>\n",
       "      <th>Date</th>\n",
       "      <th>Location</th>\n",
       "      <th>Content</th>\n",
       "      <th>URL</th>\n",
       "    </tr>\n",
       "  </thead>\n",
       "  <tbody>\n",
       "    <tr>\n",
       "      <th>0</th>\n",
       "      <td>परीक्षा पुस्तिका साट्ने दुई परीक्षा प्रमुख पक्राउ</td>\n",
       "      <td>स्थानीय</td>\n",
       "      <td>प्रतीक दैनिक</td>\n",
       "      <td>साउन ३२, २०८०</td>\n",
       "      <td>वीरगंज</td>\n",
       "      <td>वप्रका, बिर्ताका प्रहरी निरीक्ष्Fक विदुर शिवाक...</td>\n",
       "      <td>https://eprateekdaily.com/2023/08/17/55353</td>\n",
       "    </tr>\n",
       "    <tr>\n",
       "      <th>1</th>\n",
       "      <td>सिसी क्यामरा निगरानी कक्ष उद्घाटन</td>\n",
       "      <td>स्थानीय</td>\n",
       "      <td>प्रतीक दैनिक</td>\n",
       "      <td>साउन ३२, २०८०</td>\n",
       "      <td>परवानीपुर</td>\n",
       "      <td>जिल्ला प्रहरी कार्यालय, पर्सामा सिसी क्यामरा न...</td>\n",
       "      <td>https://eprateekdaily.com/2023/08/17/55350</td>\n",
       "    </tr>\n",
       "    <tr>\n",
       "      <th>2</th>\n",
       "      <td>अन्तर्घात हुँदा गठबन्धन –सहमहामन्त्री यादव</td>\n",
       "      <td>स्थानीय</td>\n",
       "      <td>प्रतीक दैनिक</td>\n",
       "      <td>भदौ १, २०८०</td>\n",
       "      <td>वीरगंज</td>\n",
       "      <td>नेकाको १४औं महाधिवेशनपश्चात् नेका पर्सा क्षेत्...</td>\n",
       "      <td>https://eprateekdaily.com/2023/08/18/55396</td>\n",
       "    </tr>\n",
       "    <tr>\n",
       "      <th>3</th>\n",
       "      <td>पारिश्रमिक वृद्धिको माग गर्दै युनियनद्वारा आन्...</td>\n",
       "      <td>स्थानीय</td>\n",
       "      <td>प्रतीक दैनिक</td>\n",
       "      <td>भदौ १, २०८०</td>\n",
       "      <td>वीरगंज</td>\n",
       "      <td>अध्यक्ष हेमराज न्यौपाने र सचिव प्रेम चौधरीले ज...</td>\n",
       "      <td>https://eprateekdaily.com/2023/08/18/55394</td>\n",
       "    </tr>\n",
       "    <tr>\n",
       "      <th>4</th>\n",
       "      <td>मोटरसाइकल दुर्घटनामा बालकको मृत्यु</td>\n",
       "      <td>स्थानीय</td>\n",
       "      <td>प्रतीक दैनिक</td>\n",
       "      <td>भदौ १, २०८०</td>\n",
       "      <td>पर्सागढी</td>\n",
       "      <td>वीरगंज महानगरपालिका–१ छपकैया निवासी जयनाथ सिंह...</td>\n",
       "      <td>https://eprateekdaily.com/2023/08/18/55392</td>\n",
       "    </tr>\n",
       "  </tbody>\n",
       "</table>\n",
       "</div>"
      ],
      "text/plain": [
       "                                               Title Category        Auther  \\\n",
       "0  परीक्षा पुस्तिका साट्ने दुई परीक्षा प्रमुख पक्राउ  स्थानीय  प्रतीक दैनिक   \n",
       "1                  सिसी क्यामरा निगरानी कक्ष उद्घाटन  स्थानीय  प्रतीक दैनिक   \n",
       "2         अन्तर्घात हुँदा गठबन्धन –सहमहामन्त्री यादव  स्थानीय  प्रतीक दैनिक   \n",
       "3  पारिश्रमिक वृद्धिको माग गर्दै युनियनद्वारा आन्...  स्थानीय  प्रतीक दैनिक   \n",
       "4                 मोटरसाइकल दुर्घटनामा बालकको मृत्यु  स्थानीय  प्रतीक दैनिक   \n",
       "\n",
       "            Date   Location  \\\n",
       "0  साउन ३२, २०८०     वीरगंज   \n",
       "1  साउन ३२, २०८०  परवानीपुर   \n",
       "2    भदौ १, २०८०     वीरगंज   \n",
       "3    भदौ १, २०८०     वीरगंज   \n",
       "4    भदौ १, २०८०   पर्सागढी   \n",
       "\n",
       "                                             Content  \\\n",
       "0  वप्रका, बिर्ताका प्रहरी निरीक्ष्Fक विदुर शिवाक...   \n",
       "1  जिल्ला प्रहरी कार्यालय, पर्सामा सिसी क्यामरा न...   \n",
       "2  नेकाको १४औं महाधिवेशनपश्चात् नेका पर्सा क्षेत्...   \n",
       "3  अध्यक्ष हेमराज न्यौपाने र सचिव प्रेम चौधरीले ज...   \n",
       "4  वीरगंज महानगरपालिका–१ छपकैया निवासी जयनाथ सिंह...   \n",
       "\n",
       "                                          URL  \n",
       "0  https://eprateekdaily.com/2023/08/17/55353  \n",
       "1  https://eprateekdaily.com/2023/08/17/55350  \n",
       "2  https://eprateekdaily.com/2023/08/18/55396  \n",
       "3  https://eprateekdaily.com/2023/08/18/55394  \n",
       "4  https://eprateekdaily.com/2023/08/18/55392  "
      ]
     },
     "execution_count": 6,
     "metadata": {},
     "output_type": "execute_result"
    }
   ],
   "source": [
    "combined_df = pd.DataFrame()\n",
    "for file in sorted(glob('local/*.json')):\n",
    "    temp_df = pd.read_json(file)\n",
    "    temp_df.index = np.array(temp_df.index) + combined_df.shape[0]\n",
    "    combined_df = pd.concat([combined_df, temp_df])\n",
    "\n",
    "combined_df.Content = combined_df.Content.apply(content_get)\n",
    "combined_df.URL = combined_df.URL.apply(content_get)\n",
    "\n",
    "combined_df = combined_df.drop_duplicates(subset = 'URL')\n",
    "\n",
    "# print(f'Before null removal : {combined_df.shape}')\n",
    "combined_df[combined_df['Content'].isnull()].reset_index(drop = True).to_json('eprateekdaily_local_news_conetent_missing.json')\n",
    "combined_df = combined_df.dropna(how = 'any', subset = 'Content').reset_index(drop = True)\n",
    "combined_df.to_json('eprateekdaily_local_news_data.json')\n",
    "\n",
    "print(f'Data collection size : {combined_df.shape}\\n')\n",
    "combined_df.head()"
   ]
  },
  {
   "cell_type": "code",
   "execution_count": 7,
   "id": "5a071904-0ff9-4c65-8b39-987845feb784",
   "metadata": {},
   "outputs": [
    {
     "data": {
      "text/plain": [
       "(806, 7)"
      ]
     },
     "execution_count": 7,
     "metadata": {},
     "output_type": "execute_result"
    }
   ],
   "source": [
    "major_news_df = pd.read_json('eprateekdaily_major_news_data.json')\n",
    "major_news_df.shape"
   ]
  },
  {
   "cell_type": "code",
   "execution_count": 8,
   "id": "5068182c-825b-4a9c-b7a7-34c691a1f6c1",
   "metadata": {},
   "outputs": [
    {
     "data": {
      "text/plain": [
       "(5463, 7)"
      ]
     },
     "execution_count": 8,
     "metadata": {},
     "output_type": "execute_result"
    }
   ],
   "source": [
    "local_news_df = pd.read_json('eprateekdaily_local_news_data.json')\n",
    "local_news_df.shape"
   ]
  },
  {
   "cell_type": "code",
   "execution_count": 9,
   "id": "14a47613-96b3-42e0-8677-6605c66fcacb",
   "metadata": {},
   "outputs": [
    {
     "name": "stdout",
     "output_type": "stream",
     "text": [
      "eprateekdaily final data collection size : (6269, 7)\n",
      "\n"
     ]
    },
    {
     "data": {
      "text/html": [
       "<div>\n",
       "<style scoped>\n",
       "    .dataframe tbody tr th:only-of-type {\n",
       "        vertical-align: middle;\n",
       "    }\n",
       "\n",
       "    .dataframe tbody tr th {\n",
       "        vertical-align: top;\n",
       "    }\n",
       "\n",
       "    .dataframe thead th {\n",
       "        text-align: right;\n",
       "    }\n",
       "</style>\n",
       "<table border=\"1\" class=\"dataframe\">\n",
       "  <thead>\n",
       "    <tr style=\"text-align: right;\">\n",
       "      <th></th>\n",
       "      <th>Title</th>\n",
       "      <th>Category</th>\n",
       "      <th>Auther</th>\n",
       "      <th>Date</th>\n",
       "      <th>Location</th>\n",
       "      <th>Content</th>\n",
       "      <th>URL</th>\n",
       "    </tr>\n",
       "  </thead>\n",
       "  <tbody>\n",
       "    <tr>\n",
       "      <th>0</th>\n",
       "      <td>पर्साका शिक्षकहरू वीरगंजमा ओइरिए, -यालीपछि धर्ना</td>\n",
       "      <td>प्रमुख समाचार</td>\n",
       "      <td>प्रतीक दैनिक</td>\n",
       "      <td>साउन ३१, २०८०</td>\n",
       "      <td>वीरगंज</td>\n",
       "      <td>नेपाल शिक्षक महासङ्घ केन्द्रले मस्यौदाको विरोध...</td>\n",
       "      <td>https://eprateekdaily.com/2023/08/16/55307</td>\n",
       "    </tr>\n",
       "    <tr>\n",
       "      <th>1</th>\n",
       "      <td>मिटरब्याजीमा राजनीतिक हस्तक्षेप बढ्दो</td>\n",
       "      <td>प्रमुख समाचार</td>\n",
       "      <td>प्रतीक दैनिक</td>\n",
       "      <td>साउन ३०, २०८०</td>\n",
       "      <td>वीरगंज</td>\n",
       "      <td>राजनीतिका कारण मुख्य दोषीहरू विभिन्न बहाना बना...</td>\n",
       "      <td>https://eprateekdaily.com/2023/08/15/55253</td>\n",
       "    </tr>\n",
       "    <tr>\n",
       "      <th>2</th>\n",
       "      <td>शिक्षा ऐनको विरोधमा शिक्षकद्वारा पालिका कार्या...</td>\n",
       "      <td>प्रमुख समाचार</td>\n",
       "      <td>प्रतीक दैनिक</td>\n",
       "      <td>साउन २९, २०८०</td>\n",
       "      <td>वीरगंज</td>\n",
       "      <td>नेपाल शिक्षक महासङ्घ, पर्साका अध्यक्ष प्रदीप ज...</td>\n",
       "      <td>https://eprateekdaily.com/2023/08/14/55191</td>\n",
       "    </tr>\n",
       "    <tr>\n",
       "      <th>3</th>\n",
       "      <td>निर्माणाधीन दुधौरा पुलको डाइभर्सनमा विभाग र ठे...</td>\n",
       "      <td>प्रमुख समाचार</td>\n",
       "      <td>प्रतीक दैनिक</td>\n",
       "      <td>साउन ३२, २०८०</td>\n",
       "      <td>निजगढ</td>\n",
       "      <td>पूर्व–पश्चिम महेन्द्र राजमार्ग अन्तर्गतका सडकख...</td>\n",
       "      <td>https://eprateekdaily.com/2023/08/17/55355</td>\n",
       "    </tr>\n",
       "    <tr>\n",
       "      <th>4</th>\n",
       "      <td>बाढीले फास्ट ट्र्याकको पुल निर्माण गर्ने मेशिन...</td>\n",
       "      <td>प्रमुख समाचार</td>\n",
       "      <td>प्रतीक दैनिक</td>\n",
       "      <td>भदौ १, २०८०</td>\n",
       "      <td>निजगढ</td>\n",
       "      <td>दु्रतमार्गको जसपालस्थित ८ नम्बर पुलको पाइलिङ म...</td>\n",
       "      <td>https://eprateekdaily.com/2023/08/18/55399</td>\n",
       "    </tr>\n",
       "  </tbody>\n",
       "</table>\n",
       "</div>"
      ],
      "text/plain": [
       "                                               Title       Category  \\\n",
       "0   पर्साका शिक्षकहरू वीरगंजमा ओइरिए, -यालीपछि धर्ना  प्रमुख समाचार   \n",
       "1              मिटरब्याजीमा राजनीतिक हस्तक्षेप बढ्दो  प्रमुख समाचार   \n",
       "2  शिक्षा ऐनको विरोधमा शिक्षकद्वारा पालिका कार्या...  प्रमुख समाचार   \n",
       "3  निर्माणाधीन दुधौरा पुलको डाइभर्सनमा विभाग र ठे...  प्रमुख समाचार   \n",
       "4  बाढीले फास्ट ट्र्याकको पुल निर्माण गर्ने मेशिन...  प्रमुख समाचार   \n",
       "\n",
       "         Auther           Date Location  \\\n",
       "0  प्रतीक दैनिक  साउन ३१, २०८०   वीरगंज   \n",
       "1  प्रतीक दैनिक  साउन ३०, २०८०   वीरगंज   \n",
       "2  प्रतीक दैनिक  साउन २९, २०८०   वीरगंज   \n",
       "3  प्रतीक दैनिक  साउन ३२, २०८०    निजगढ   \n",
       "4  प्रतीक दैनिक    भदौ १, २०८०    निजगढ   \n",
       "\n",
       "                                             Content  \\\n",
       "0  नेपाल शिक्षक महासङ्घ केन्द्रले मस्यौदाको विरोध...   \n",
       "1  राजनीतिका कारण मुख्य दोषीहरू विभिन्न बहाना बना...   \n",
       "2  नेपाल शिक्षक महासङ्घ, पर्साका अध्यक्ष प्रदीप ज...   \n",
       "3  पूर्व–पश्चिम महेन्द्र राजमार्ग अन्तर्गतका सडकख...   \n",
       "4  दु्रतमार्गको जसपालस्थित ८ नम्बर पुलको पाइलिङ म...   \n",
       "\n",
       "                                          URL  \n",
       "0  https://eprateekdaily.com/2023/08/16/55307  \n",
       "1  https://eprateekdaily.com/2023/08/15/55253  \n",
       "2  https://eprateekdaily.com/2023/08/14/55191  \n",
       "3  https://eprateekdaily.com/2023/08/17/55355  \n",
       "4  https://eprateekdaily.com/2023/08/18/55399  "
      ]
     },
     "execution_count": 9,
     "metadata": {},
     "output_type": "execute_result"
    }
   ],
   "source": [
    "eprateekdaily_final_df = pd.concat([major_news_df, local_news_df]).reset_index(drop = True)\n",
    "eprateekdaily_final_df.to_json('eprateekdaily_news_data.json')\n",
    "\n",
    "print(f'eprateekdaily final data collection size : {eprateekdaily_final_df.shape}\\n')\n",
    "eprateekdaily_final_df.head()"
   ]
  }
 ],
 "metadata": {
  "kernelspec": {
   "display_name": "Python 3 (ipykernel)",
   "language": "python",
   "name": "python3"
  },
  "language_info": {
   "codemirror_mode": {
    "name": "ipython",
    "version": 3
   },
   "file_extension": ".py",
   "mimetype": "text/x-python",
   "name": "python",
   "nbconvert_exporter": "python",
   "pygments_lexer": "ipython3",
   "version": "3.9.7"
  }
 },
 "nbformat": 4,
 "nbformat_minor": 5
}
