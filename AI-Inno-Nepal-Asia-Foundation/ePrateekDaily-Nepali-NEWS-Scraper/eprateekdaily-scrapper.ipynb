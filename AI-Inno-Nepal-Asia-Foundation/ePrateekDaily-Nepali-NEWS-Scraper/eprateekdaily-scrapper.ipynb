{
 "cells": [
  {
   "cell_type": "markdown",
   "id": "0b345136-0f08-44a6-9f41-6c674d0510f2",
   "metadata": {},
   "source": [
    "<h1><strong>Collecting data from <a src = 'https://eprateekdaily.com/'>Prateek Daily Newspaper</strong></a></h1>"
   ]
  },
  {
   "cell_type": "markdown",
   "id": "2943e9ba-3f0b-4fed-a6a9-c0b857e55cab",
   "metadata": {},
   "source": [
    "## Importing Libraries"
   ]
  },
  {
   "cell_type": "code",
   "execution_count": 1,
   "id": "2484bbc0",
   "metadata": {
    "_cell_guid": "b1076dfc-b9ad-4769-8c92-a6c4dae69d19",
    "_uuid": "8f2839f25d086af736a60e9eeb907d3b93b6e0e5",
    "execution": {
     "iopub.execute_input": "2023-08-18T11:33:46.831425Z",
     "iopub.status.busy": "2023-08-18T11:33:46.830927Z",
     "iopub.status.idle": "2023-08-18T11:33:47.101287Z",
     "shell.execute_reply": "2023-08-18T11:33:47.099644Z"
    },
    "papermill": {
     "duration": 0.280396,
     "end_time": "2023-08-18T11:33:47.104574",
     "exception": false,
     "start_time": "2023-08-18T11:33:46.824178",
     "status": "completed"
    },
    "tags": []
   },
   "outputs": [],
   "source": [
    "import re\n",
    "import json\n",
    "\n",
    "import numpy as np\n",
    "import pandas as pd\n",
    "\n",
    "from tqdm import tqdm\n",
    "from time import sleep\n",
    "\n",
    "import requests\n",
    "from bs4 import BeautifulSoup as soup"
   ]
  },
  {
   "cell_type": "markdown",
   "id": "1a55fcea-15a2-4844-9345-612b26d7893e",
   "metadata": {},
   "source": [
    "## Defining Helper Functions-1"
   ]
  },
  {
   "cell_type": "code",
   "execution_count": 2,
   "id": "48f63250",
   "metadata": {
    "execution": {
     "iopub.execute_input": "2023-08-18T11:33:47.115940Z",
     "iopub.status.busy": "2023-08-18T11:33:47.114484Z",
     "iopub.status.idle": "2023-08-18T11:33:47.122244Z",
     "shell.execute_reply": "2023-08-18T11:33:47.120848Z"
    },
    "papermill": {
     "duration": 0.01633,
     "end_time": "2023-08-18T11:33:47.124935",
     "exception": false,
     "start_time": "2023-08-18T11:33:47.108605",
     "status": "completed"
    },
    "tags": []
   },
   "outputs": [],
   "source": [
    "def get_request_object(page_url):\n",
    "    return requests.get(page_url)\n",
    "\n",
    "def get_soup_object(req_object):\n",
    "    return soup(req_object.content, 'lxml')"
   ]
  },
  {
   "cell_type": "code",
   "execution_count": 3,
   "id": "ff749573",
   "metadata": {
    "execution": {
     "iopub.execute_input": "2023-08-18T11:33:47.135874Z",
     "iopub.status.busy": "2023-08-18T11:33:47.135086Z",
     "iopub.status.idle": "2023-08-18T11:33:47.144945Z",
     "shell.execute_reply": "2023-08-18T11:33:47.143678Z"
    },
    "papermill": {
     "duration": 0.019296,
     "end_time": "2023-08-18T11:33:47.147997",
     "exception": false,
     "start_time": "2023-08-18T11:33:47.128701",
     "status": "completed"
    },
    "tags": []
   },
   "outputs": [],
   "source": [
    "def extract_news_link(a_soup):\n",
    "\n",
    "    news_links_ = []\n",
    "    for link in a_soup.find_all('a'):\n",
    "        if re.search(f'{NEWS_LINK_REGEX_FORMAT}', link['href']):\n",
    "            news_links_.extend(re.findall(f'{NEWS_LINK_REGEX_FORMAT}', link['href']))\n",
    "            \n",
    "    return list(set(news_links_))"
   ]
  },
  {
   "cell_type": "markdown",
   "id": "e0bbfc28-b352-4c22-8048-e0295345e341",
   "metadata": {},
   "source": [
    "## Defining constants"
   ]
  },
  {
   "cell_type": "code",
   "execution_count": 4,
   "id": "aec612cc",
   "metadata": {
    "execution": {
     "iopub.execute_input": "2023-08-18T11:33:47.158504Z",
     "iopub.status.busy": "2023-08-18T11:33:47.158051Z",
     "iopub.status.idle": "2023-08-18T11:33:47.164254Z",
     "shell.execute_reply": "2023-08-18T11:33:47.162743Z"
    },
    "papermill": {
     "duration": 0.014897,
     "end_time": "2023-08-18T11:33:47.167105",
     "exception": false,
     "start_time": "2023-08-18T11:33:47.152208",
     "status": "completed"
    },
    "tags": []
   },
   "outputs": [],
   "source": [
    "WAIT = 1\n",
    "NEWS_LINK_REGEX_FORMAT = r'https://eprateekdaily.com/\\d+/\\d+/\\d+/\\d+'\n",
    "MAJOR_NEWS_URL = 'https://eprateekdaily.com/category/%E0%A4%B8%E0%A4%AE%E0%A4%BE%E0%A4%9A%E0%A4%BE%E0%A4%B0/%E0%A4%AA%E0%A5%8D%E0%A4%B0%E0%A4%AE%E0%A5%81%E0%A4%96-%E0%A4%B8%E0%A4%AE%E0%A4%BE%E0%A4%9A%E0%A4%BE%E0%A4%B0/'\n",
    "LOCAL_NEWS_URL = 'https://eprateekdaily.com/category/%e0%a4%b8%e0%a4%ae%e0%a4%be%e0%a4%9a%e0%a4%be%e0%a4%b0/%e0%a4%b8%e0%a5%8d%e0%a4%a5%e0%a4%be%e0%a4%a8%e0%a5%80%e0%a4%af/'"
   ]
  },
  {
   "cell_type": "markdown",
   "id": "9711d535-62d8-4c24-82a5-55547eef76f0",
   "metadata": {},
   "source": [
    "## Defining Helper Functions-2"
   ]
  },
  {
   "cell_type": "code",
   "execution_count": 5,
   "id": "a372cfd4",
   "metadata": {
    "execution": {
     "iopub.execute_input": "2023-08-18T11:33:47.176866Z",
     "iopub.status.busy": "2023-08-18T11:33:47.176399Z",
     "iopub.status.idle": "2023-08-18T11:33:47.188891Z",
     "shell.execute_reply": "2023-08-18T11:33:47.187609Z"
    },
    "papermill": {
     "duration": 0.020696,
     "end_time": "2023-08-18T11:33:47.191551",
     "exception": false,
     "start_time": "2023-08-18T11:33:47.170855",
     "status": "completed"
    },
    "tags": []
   },
   "outputs": [],
   "source": [
    "def get_news_category_text(PAGE_URL, MAX, file_name):\n",
    "    \n",
    "    news_links_dict = {}\n",
    "    category_text = None\n",
    "\n",
    "    for page_no in tqdm(range(1, MAX+1)):\n",
    "\n",
    "        page_URL = PAGE_URL + f'page/{page_no}/'\n",
    "\n",
    "        request_object = get_request_object(page_URL)\n",
    "\n",
    "        if request_object.status_code != 200:\n",
    "            raise requests.exceptions.ConnectionError(f'Expects response code 200, but recieved {request_object}')\n",
    "\n",
    "        soup_obj = get_soup_object(request_object)\n",
    "\n",
    "        if category_text == None:\n",
    "            try: category_text = soup_obj.find('h1').text.strip()\n",
    "            except: pass\n",
    "        try:\n",
    "            if page_no == 1:\n",
    "                top_news_box = soup_obj.find('div', {'id' : 'tdi_60'}).find('div', {'class' : 'wpb_wrapper'})\n",
    "                news_links_dict[0] = extract_news_link(top_news_box)\n",
    "                news_links_dict[page_no] = extract_news_link(soup_obj.find('div', {'id' : 'tdi_72'}))\n",
    "            else:\n",
    "                news_links_dict[page_no] = extract_news_link(soup_obj.find('div', {'id' : 'tdi_72'}))\n",
    "        except:\n",
    "            pass\n",
    "\n",
    "        with open(f'{file_name}_news_links.txt', 'w', encoding = 'utf-8') as f:\n",
    "            f.write(str(news_links_dict))\n",
    "\n",
    "        sleep(WAIT)\n",
    "        \n",
    "    return category_text, news_links_dict"
   ]
  },
  {
   "cell_type": "markdown",
   "id": "38345b71-82ae-43bf-b261-7b24c3e3d970",
   "metadata": {},
   "source": [
    "## Collecting links of 2 category NEWS"
   ]
  },
  {
   "cell_type": "code",
   "execution_count": 6,
   "id": "2c6cd4b5",
   "metadata": {
    "execution": {
     "iopub.execute_input": "2023-08-18T11:32:26.664558Z",
     "iopub.status.busy": "2023-08-18T11:32:26.664182Z",
     "iopub.status.idle": "2023-08-18T11:36:13.611637Z",
     "shell.execute_reply": "2023-08-18T11:36:13.610141Z"
    },
    "papermill": {
     "duration": 226.953273,
     "end_time": "2023-08-18T11:36:13.613617",
     "exception": false,
     "start_time": "2023-08-18T11:32:26.660344",
     "status": "completed"
    },
    "tags": []
   },
   "outputs": [
    {
     "name": "stderr",
     "output_type": "stream",
     "text": [
      "100%|██████████| 88/88 [03:46<00:00,  2.58s/it]\n"
     ]
    }
   ],
   "source": [
    "category_text_major, major_news_list = get_news_category_text(MAJOR_NEWS_URL, 88, 'major')"
   ]
  },
  {
   "cell_type": "code",
   "execution_count": 7,
   "id": "26f52a0a",
   "metadata": {
    "execution": {
     "iopub.execute_input": "2023-08-18T11:33:47.227741Z",
     "iopub.status.busy": "2023-08-18T11:33:47.227341Z",
     "iopub.status.idle": "2023-08-18T12:21:23.359171Z",
     "shell.execute_reply": "2023-08-18T12:21:23.357150Z"
    },
    "papermill": {
     "duration": 2856.148676,
     "end_time": "2023-08-18T12:21:23.369360",
     "exception": false,
     "start_time": "2023-08-18T11:33:47.220684",
     "status": "completed"
    },
    "tags": []
   },
   "outputs": [
    {
     "name": "stderr",
     "output_type": "stream",
     "text": [
      "100%|██████████| 666/666 [47:36<00:00,  4.29s/it]\n"
     ]
    }
   ],
   "source": [
    "category_text_local, local_news_list = get_news_category_text(LOCAL_NEWS_URL, 666, 'local')"
   ]
  },
  {
   "cell_type": "markdown",
   "id": "c9680046-a4e3-428d-bc83-23a93aa3a66f",
   "metadata": {},
   "source": [
    "## Defining Helper Functions-3"
   ]
  },
  {
   "cell_type": "code",
   "execution_count": 8,
   "id": "744e70f9",
   "metadata": {
    "execution": {
     "iopub.execute_input": "2023-08-18T17:22:51.237098Z",
     "iopub.status.busy": "2023-08-18T17:22:51.236476Z",
     "iopub.status.idle": "2023-08-18T17:22:51.252413Z",
     "shell.execute_reply": "2023-08-18T17:22:51.251612Z"
    },
    "papermill": {
     "duration": 0.025842,
     "end_time": "2023-08-18T17:22:51.254610",
     "exception": false,
     "start_time": "2023-08-18T17:22:51.228768",
     "status": "completed"
    },
    "tags": []
   },
   "outputs": [],
   "source": [
    "def news_scraper(news_dict, news_category, new_file_name):\n",
    "\n",
    "    news_collection = pd.DataFrame({'Title' : [], 'Category' : [], 'Auther' : [], 'Date' : [], 'Location' : [], 'Content' : [], 'URL' : []})\n",
    "    failed_links = []\n",
    "\n",
    "    for key in tqdm(sorted(news_dict.keys())):\n",
    "        for news_link in news_dict[key]:\n",
    "\n",
    "            try:\n",
    "                request_object = get_request_object(news_link)\n",
    "\n",
    "                soup_obj = get_soup_object(request_object)\n",
    "\n",
    "                try: news_title = soup_obj.find('h1').text.strip()\n",
    "                except: news_title = np.nan\n",
    "\n",
    "                try: auther = soup_obj.find('div', {'class' : 'td-post-author-name'}).find('a').text.strip()\n",
    "                except: auther = np.nan\n",
    "\n",
    "                try: news_date = soup_obj.find('span', {'class' : 'td-post-date'}).text.strip()\n",
    "                except: news_date = np.nan\n",
    "\n",
    "                try:\n",
    "                    content_box = soup_obj.find('div', {'class' : 'td-post-content tagdiv-type'})\n",
    "                    try: reported_location = content_box.find('p').text.split(',')[1].strip()\n",
    "                    except: reported_location= np.nan\n",
    "\n",
    "                    try: content = '. '.join([re.sub(r'\\xa0|\\n|\\t', '', para.text).strip() for idx, para in enumerate(content_box.find_all('p')) if idx != 0]).strip()\n",
    "                    except: content = np.nan\n",
    "\n",
    "                except:\n",
    "                    reported_location, content = np.nan, np.nan\n",
    "\n",
    "            except:\n",
    "                news_title, auther, news_date, reported_location, content, news_link = np.nan, np.nan, np.nan, np.nan, np.nan, np.nan\n",
    "                \n",
    "                failed_links.extend(news_link)\n",
    "            finally:\n",
    "                news_collection.loc[len(news_collection)] = [news_title, news_category, auther, news_date, reported_location, content, news_link]\n",
    "\n",
    "                with open(f'{new_file_name}_failed_links.txt', 'w', encoding = 'utf-8') as f:\n",
    "                    f.write(str(failed_links))\n",
    "\n",
    "            news_collection.to_csv(f'{new_file_name}_collections.csv', index = False, encoding = 'utf-8')\n",
    "            news_collection.to_json(f'{new_file_name}_collections.json')\n",
    "\n",
    "            sleep(WAIT)\n",
    "        print(key)\n",
    "    return news_collection"
   ]
  },
  {
   "cell_type": "markdown",
   "id": "83c1e331-a541-41e8-82b4-4cceea2242e8",
   "metadata": {},
   "source": [
    "## Scrapping and processing collected NEWS"
   ]
  },
  {
   "cell_type": "code",
   "execution_count": 9,
   "id": "a061575a-aba5-4c65-bae0-75fe430f3a99",
   "metadata": {},
   "outputs": [],
   "source": [
    "def content_get(value):\n",
    "    if isinstance(value, str):\n",
    "        if len(value) < 1 : return np.nan\n",
    "    return value"
   ]
  },
  {
   "cell_type": "code",
   "execution_count": 10,
   "id": "4cbe196c",
   "metadata": {},
   "outputs": [],
   "source": [
    "major_news_df = news_scraper(major_news_list, category_text_major, 'major_news')"
   ]
  },
  {
   "cell_type": "code",
   "execution_count": 11,
   "id": "3dd04b70-9f52-474a-9517-9db46d102802",
   "metadata": {},
   "outputs": [
    {
     "name": "stdout",
     "output_type": "stream",
     "text": [
      "Data collection size : (806, 7)\n",
      "\n"
     ]
    },
    {
     "data": {
      "text/html": [
       "<div>\n",
       "<style scoped>\n",
       "    .dataframe tbody tr th:only-of-type {\n",
       "        vertical-align: middle;\n",
       "    }\n",
       "\n",
       "    .dataframe tbody tr th {\n",
       "        vertical-align: top;\n",
       "    }\n",
       "\n",
       "    .dataframe thead th {\n",
       "        text-align: right;\n",
       "    }\n",
       "</style>\n",
       "<table border=\"1\" class=\"dataframe\">\n",
       "  <thead>\n",
       "    <tr style=\"text-align: right;\">\n",
       "      <th></th>\n",
       "      <th>Title</th>\n",
       "      <th>Category</th>\n",
       "      <th>Auther</th>\n",
       "      <th>Date</th>\n",
       "      <th>Location</th>\n",
       "      <th>Content</th>\n",
       "      <th>URL</th>\n",
       "    </tr>\n",
       "  </thead>\n",
       "  <tbody>\n",
       "    <tr>\n",
       "      <th>0</th>\n",
       "      <td>पर्साका शिक्षकहरू वीरगंजमा ओइरिए, -यालीपछि धर्ना</td>\n",
       "      <td>प्रमुख समाचार</td>\n",
       "      <td>प्रतीक दैनिक</td>\n",
       "      <td>साउन ३१, २०८०</td>\n",
       "      <td>वीरगंज</td>\n",
       "      <td>नेपाल शिक्षक महासङ्घ केन्द्रले मस्यौदाको विरोध...</td>\n",
       "      <td>https://eprateekdaily.com/2023/08/16/55307</td>\n",
       "    </tr>\n",
       "    <tr>\n",
       "      <th>1</th>\n",
       "      <td>मिटरब्याजीमा राजनीतिक हस्तक्षेप बढ्दो</td>\n",
       "      <td>प्रमुख समाचार</td>\n",
       "      <td>प्रतीक दैनिक</td>\n",
       "      <td>साउन ३०, २०८०</td>\n",
       "      <td>वीरगंज</td>\n",
       "      <td>राजनीतिका कारण मुख्य दोषीहरू विभिन्न बहाना बना...</td>\n",
       "      <td>https://eprateekdaily.com/2023/08/15/55253</td>\n",
       "    </tr>\n",
       "    <tr>\n",
       "      <th>2</th>\n",
       "      <td>शिक्षा ऐनको विरोधमा शिक्षकद्वारा पालिका कार्या...</td>\n",
       "      <td>प्रमुख समाचार</td>\n",
       "      <td>प्रतीक दैनिक</td>\n",
       "      <td>साउन २९, २०८०</td>\n",
       "      <td>वीरगंज</td>\n",
       "      <td>नेपाल शिक्षक महासङ्घ, पर्साका अध्यक्ष प्रदीप ज...</td>\n",
       "      <td>https://eprateekdaily.com/2023/08/14/55191</td>\n",
       "    </tr>\n",
       "    <tr>\n",
       "      <th>3</th>\n",
       "      <td>निर्माणाधीन दुधौरा पुलको डाइभर्सनमा विभाग र ठे...</td>\n",
       "      <td>प्रमुख समाचार</td>\n",
       "      <td>प्रतीक दैनिक</td>\n",
       "      <td>साउन ३२, २०८०</td>\n",
       "      <td>निजगढ</td>\n",
       "      <td>पूर्व–पश्चिम महेन्द्र राजमार्ग अन्तर्गतका सडकख...</td>\n",
       "      <td>https://eprateekdaily.com/2023/08/17/55355</td>\n",
       "    </tr>\n",
       "    <tr>\n",
       "      <th>4</th>\n",
       "      <td>बाढीले फास्ट ट्र्याकको पुल निर्माण गर्ने मेशिन...</td>\n",
       "      <td>प्रमुख समाचार</td>\n",
       "      <td>प्रतीक दैनिक</td>\n",
       "      <td>भदौ १, २०८०</td>\n",
       "      <td>निजगढ</td>\n",
       "      <td>दु्रतमार्गको जसपालस्थित ८ नम्बर पुलको पाइलिङ म...</td>\n",
       "      <td>https://eprateekdaily.com/2023/08/18/55399</td>\n",
       "    </tr>\n",
       "  </tbody>\n",
       "</table>\n",
       "</div>"
      ],
      "text/plain": [
       "                                               Title       Category  \\\n",
       "0   पर्साका शिक्षकहरू वीरगंजमा ओइरिए, -यालीपछि धर्ना  प्रमुख समाचार   \n",
       "1              मिटरब्याजीमा राजनीतिक हस्तक्षेप बढ्दो  प्रमुख समाचार   \n",
       "2  शिक्षा ऐनको विरोधमा शिक्षकद्वारा पालिका कार्या...  प्रमुख समाचार   \n",
       "3  निर्माणाधीन दुधौरा पुलको डाइभर्सनमा विभाग र ठे...  प्रमुख समाचार   \n",
       "4  बाढीले फास्ट ट्र्याकको पुल निर्माण गर्ने मेशिन...  प्रमुख समाचार   \n",
       "\n",
       "         Auther           Date Location  \\\n",
       "0  प्रतीक दैनिक  साउन ३१, २०८०   वीरगंज   \n",
       "1  प्रतीक दैनिक  साउन ३०, २०८०   वीरगंज   \n",
       "2  प्रतीक दैनिक  साउन २९, २०८०   वीरगंज   \n",
       "3  प्रतीक दैनिक  साउन ३२, २०८०    निजगढ   \n",
       "4  प्रतीक दैनिक    भदौ १, २०८०    निजगढ   \n",
       "\n",
       "                                             Content  \\\n",
       "0  नेपाल शिक्षक महासङ्घ केन्द्रले मस्यौदाको विरोध...   \n",
       "1  राजनीतिका कारण मुख्य दोषीहरू विभिन्न बहाना बना...   \n",
       "2  नेपाल शिक्षक महासङ्घ, पर्साका अध्यक्ष प्रदीप ज...   \n",
       "3  पूर्व–पश्चिम महेन्द्र राजमार्ग अन्तर्गतका सडकख...   \n",
       "4  दु्रतमार्गको जसपालस्थित ८ नम्बर पुलको पाइलिङ म...   \n",
       "\n",
       "                                          URL  \n",
       "0  https://eprateekdaily.com/2023/08/16/55307  \n",
       "1  https://eprateekdaily.com/2023/08/15/55253  \n",
       "2  https://eprateekdaily.com/2023/08/14/55191  \n",
       "3  https://eprateekdaily.com/2023/08/17/55355  \n",
       "4  https://eprateekdaily.com/2023/08/18/55399  "
      ]
     },
     "execution_count": 11,
     "metadata": {},
     "output_type": "execute_result"
    }
   ],
   "source": [
    "major_news_df.Content = major_news_df.Content.apply(content_get)\n",
    "major_news_df = major_news_df.drop_duplicates(subset = 'URL')\n",
    "\n",
    "major_news_df[major_news_df['Content'].isnull()].reset_index(drop = True).to_json('eprateekdaily_major_news_conetent_missing.json')\n",
    "major_news_df = major_news_df.dropna(how = 'any', subset = 'Content').reset_index(drop = True)\n",
    "major_news_df.to_json('eprateekdaily_major_news_data.json')\n",
    "\n",
    "print(f'Data collection size : {major_news_df.shape}\\n')\n",
    "major_news_df.head()"
   ]
  },
  {
   "cell_type": "code",
   "execution_count": 12,
   "id": "429ec7a4",
   "metadata": {},
   "outputs": [],
   "source": [
    "local_news_df = news_scraper(local_news_list, category_text_local, 'local_news')"
   ]
  },
  {
   "cell_type": "code",
   "execution_count": 13,
   "id": "f48400d4-7dfa-4dd3-b445-f620150a6277",
   "metadata": {},
   "outputs": [
    {
     "name": "stdout",
     "output_type": "stream",
     "text": [
      "Data collection size : (5463, 7)\n",
      "\n"
     ]
    },
    {
     "data": {
      "text/html": [
       "<div>\n",
       "<style scoped>\n",
       "    .dataframe tbody tr th:only-of-type {\n",
       "        vertical-align: middle;\n",
       "    }\n",
       "\n",
       "    .dataframe tbody tr th {\n",
       "        vertical-align: top;\n",
       "    }\n",
       "\n",
       "    .dataframe thead th {\n",
       "        text-align: right;\n",
       "    }\n",
       "</style>\n",
       "<table border=\"1\" class=\"dataframe\">\n",
       "  <thead>\n",
       "    <tr style=\"text-align: right;\">\n",
       "      <th></th>\n",
       "      <th>Title</th>\n",
       "      <th>Category</th>\n",
       "      <th>Auther</th>\n",
       "      <th>Date</th>\n",
       "      <th>Location</th>\n",
       "      <th>Content</th>\n",
       "      <th>URL</th>\n",
       "    </tr>\n",
       "  </thead>\n",
       "  <tbody>\n",
       "    <tr>\n",
       "      <th>0</th>\n",
       "      <td>परीक्षा पुस्तिका साट्ने दुई परीक्षा प्रमुख पक्राउ</td>\n",
       "      <td>स्थानीय</td>\n",
       "      <td>प्रतीक दैनिक</td>\n",
       "      <td>साउन ३२, २०८०</td>\n",
       "      <td>वीरगंज</td>\n",
       "      <td>वप्रका, बिर्ताका प्रहरी निरीक्ष्Fक विदुर शिवाक...</td>\n",
       "      <td>https://eprateekdaily.com/2023/08/17/55353</td>\n",
       "    </tr>\n",
       "    <tr>\n",
       "      <th>1</th>\n",
       "      <td>सिसी क्यामरा निगरानी कक्ष उद्घाटन</td>\n",
       "      <td>स्थानीय</td>\n",
       "      <td>प्रतीक दैनिक</td>\n",
       "      <td>साउन ३२, २०८०</td>\n",
       "      <td>परवानीपुर</td>\n",
       "      <td>जिल्ला प्रहरी कार्यालय, पर्सामा सिसी क्यामरा न...</td>\n",
       "      <td>https://eprateekdaily.com/2023/08/17/55350</td>\n",
       "    </tr>\n",
       "    <tr>\n",
       "      <th>2</th>\n",
       "      <td>अन्तर्घात हुँदा गठबन्धन –सहमहामन्त्री यादव</td>\n",
       "      <td>स्थानीय</td>\n",
       "      <td>प्रतीक दैनिक</td>\n",
       "      <td>भदौ १, २०८०</td>\n",
       "      <td>वीरगंज</td>\n",
       "      <td>नेकाको १४औं महाधिवेशनपश्चात् नेका पर्सा क्षेत्...</td>\n",
       "      <td>https://eprateekdaily.com/2023/08/18/55396</td>\n",
       "    </tr>\n",
       "    <tr>\n",
       "      <th>3</th>\n",
       "      <td>पारिश्रमिक वृद्धिको माग गर्दै युनियनद्वारा आन्...</td>\n",
       "      <td>स्थानीय</td>\n",
       "      <td>प्रतीक दैनिक</td>\n",
       "      <td>भदौ १, २०८०</td>\n",
       "      <td>वीरगंज</td>\n",
       "      <td>अध्यक्ष हेमराज न्यौपाने र सचिव प्रेम चौधरीले ज...</td>\n",
       "      <td>https://eprateekdaily.com/2023/08/18/55394</td>\n",
       "    </tr>\n",
       "    <tr>\n",
       "      <th>4</th>\n",
       "      <td>मोटरसाइकल दुर्घटनामा बालकको मृत्यु</td>\n",
       "      <td>स्थानीय</td>\n",
       "      <td>प्रतीक दैनिक</td>\n",
       "      <td>भदौ १, २०८०</td>\n",
       "      <td>पर्सागढी</td>\n",
       "      <td>वीरगंज महानगरपालिका–१ छपकैया निवासी जयनाथ सिंह...</td>\n",
       "      <td>https://eprateekdaily.com/2023/08/18/55392</td>\n",
       "    </tr>\n",
       "  </tbody>\n",
       "</table>\n",
       "</div>"
      ],
      "text/plain": [
       "                                               Title Category        Auther  \\\n",
       "0  परीक्षा पुस्तिका साट्ने दुई परीक्षा प्रमुख पक्राउ  स्थानीय  प्रतीक दैनिक   \n",
       "1                  सिसी क्यामरा निगरानी कक्ष उद्घाटन  स्थानीय  प्रतीक दैनिक   \n",
       "2         अन्तर्घात हुँदा गठबन्धन –सहमहामन्त्री यादव  स्थानीय  प्रतीक दैनिक   \n",
       "3  पारिश्रमिक वृद्धिको माग गर्दै युनियनद्वारा आन्...  स्थानीय  प्रतीक दैनिक   \n",
       "4                 मोटरसाइकल दुर्घटनामा बालकको मृत्यु  स्थानीय  प्रतीक दैनिक   \n",
       "\n",
       "            Date   Location  \\\n",
       "0  साउन ३२, २०८०     वीरगंज   \n",
       "1  साउन ३२, २०८०  परवानीपुर   \n",
       "2    भदौ १, २०८०     वीरगंज   \n",
       "3    भदौ १, २०८०     वीरगंज   \n",
       "4    भदौ १, २०८०   पर्सागढी   \n",
       "\n",
       "                                             Content  \\\n",
       "0  वप्रका, बिर्ताका प्रहरी निरीक्ष्Fक विदुर शिवाक...   \n",
       "1  जिल्ला प्रहरी कार्यालय, पर्सामा सिसी क्यामरा न...   \n",
       "2  नेकाको १४औं महाधिवेशनपश्चात् नेका पर्सा क्षेत्...   \n",
       "3  अध्यक्ष हेमराज न्यौपाने र सचिव प्रेम चौधरीले ज...   \n",
       "4  वीरगंज महानगरपालिका–१ छपकैया निवासी जयनाथ सिंह...   \n",
       "\n",
       "                                          URL  \n",
       "0  https://eprateekdaily.com/2023/08/17/55353  \n",
       "1  https://eprateekdaily.com/2023/08/17/55350  \n",
       "2  https://eprateekdaily.com/2023/08/18/55396  \n",
       "3  https://eprateekdaily.com/2023/08/18/55394  \n",
       "4  https://eprateekdaily.com/2023/08/18/55392  "
      ]
     },
     "execution_count": 13,
     "metadata": {},
     "output_type": "execute_result"
    }
   ],
   "source": [
    "local_news_df.Content = local_news_df.Content.apply(content_get)\n",
    "local_news_df = local_news_df.drop_duplicates(subset = 'URL')\n",
    "\n",
    "local_news_df[local_news_df['Content'].isnull()].reset_index(drop = True).to_json('eprateekdaily_local_news_conetent_missing.json')\n",
    "local_news_df = local_news_df.dropna(how = 'any', subset = 'Content').reset_index(drop = True)\n",
    "local_news_df.to_json('eprateekdaily_local_news_data.json')\n",
    "\n",
    "print(f'Data collection size : {local_news_df.shape}\\n')\n",
    "local_news_df.head()"
   ]
  },
  {
   "cell_type": "markdown",
   "id": "31e9a5f6-b721-4dc3-9647-38935507905b",
   "metadata": {},
   "source": [
    "## Combbining and saving final file"
   ]
  },
  {
   "cell_type": "code",
   "execution_count": 14,
   "id": "21e4d5f1-389d-4b04-803c-868d13947330",
   "metadata": {},
   "outputs": [
    {
     "name": "stdout",
     "output_type": "stream",
     "text": [
      "eprateekdaily final data collection size : (6269, 7)\n",
      "\n"
     ]
    },
    {
     "data": {
      "text/html": [
       "<div>\n",
       "<style scoped>\n",
       "    .dataframe tbody tr th:only-of-type {\n",
       "        vertical-align: middle;\n",
       "    }\n",
       "\n",
       "    .dataframe tbody tr th {\n",
       "        vertical-align: top;\n",
       "    }\n",
       "\n",
       "    .dataframe thead th {\n",
       "        text-align: right;\n",
       "    }\n",
       "</style>\n",
       "<table border=\"1\" class=\"dataframe\">\n",
       "  <thead>\n",
       "    <tr style=\"text-align: right;\">\n",
       "      <th></th>\n",
       "      <th>Title</th>\n",
       "      <th>Category</th>\n",
       "      <th>Auther</th>\n",
       "      <th>Date</th>\n",
       "      <th>Location</th>\n",
       "      <th>Content</th>\n",
       "      <th>URL</th>\n",
       "    </tr>\n",
       "  </thead>\n",
       "  <tbody>\n",
       "    <tr>\n",
       "      <th>0</th>\n",
       "      <td>पर्साका शिक्षकहरू वीरगंजमा ओइरिए, -यालीपछि धर्ना</td>\n",
       "      <td>प्रमुख समाचार</td>\n",
       "      <td>प्रतीक दैनिक</td>\n",
       "      <td>साउन ३१, २०८०</td>\n",
       "      <td>वीरगंज</td>\n",
       "      <td>नेपाल शिक्षक महासङ्घ केन्द्रले मस्यौदाको विरोध...</td>\n",
       "      <td>https://eprateekdaily.com/2023/08/16/55307</td>\n",
       "    </tr>\n",
       "    <tr>\n",
       "      <th>1</th>\n",
       "      <td>मिटरब्याजीमा राजनीतिक हस्तक्षेप बढ्दो</td>\n",
       "      <td>प्रमुख समाचार</td>\n",
       "      <td>प्रतीक दैनिक</td>\n",
       "      <td>साउन ३०, २०८०</td>\n",
       "      <td>वीरगंज</td>\n",
       "      <td>राजनीतिका कारण मुख्य दोषीहरू विभिन्न बहाना बना...</td>\n",
       "      <td>https://eprateekdaily.com/2023/08/15/55253</td>\n",
       "    </tr>\n",
       "    <tr>\n",
       "      <th>2</th>\n",
       "      <td>शिक्षा ऐनको विरोधमा शिक्षकद्वारा पालिका कार्या...</td>\n",
       "      <td>प्रमुख समाचार</td>\n",
       "      <td>प्रतीक दैनिक</td>\n",
       "      <td>साउन २९, २०८०</td>\n",
       "      <td>वीरगंज</td>\n",
       "      <td>नेपाल शिक्षक महासङ्घ, पर्साका अध्यक्ष प्रदीप ज...</td>\n",
       "      <td>https://eprateekdaily.com/2023/08/14/55191</td>\n",
       "    </tr>\n",
       "    <tr>\n",
       "      <th>3</th>\n",
       "      <td>निर्माणाधीन दुधौरा पुलको डाइभर्सनमा विभाग र ठे...</td>\n",
       "      <td>प्रमुख समाचार</td>\n",
       "      <td>प्रतीक दैनिक</td>\n",
       "      <td>साउन ३२, २०८०</td>\n",
       "      <td>निजगढ</td>\n",
       "      <td>पूर्व–पश्चिम महेन्द्र राजमार्ग अन्तर्गतका सडकख...</td>\n",
       "      <td>https://eprateekdaily.com/2023/08/17/55355</td>\n",
       "    </tr>\n",
       "    <tr>\n",
       "      <th>4</th>\n",
       "      <td>बाढीले फास्ट ट्र्याकको पुल निर्माण गर्ने मेशिन...</td>\n",
       "      <td>प्रमुख समाचार</td>\n",
       "      <td>प्रतीक दैनिक</td>\n",
       "      <td>भदौ १, २०८०</td>\n",
       "      <td>निजगढ</td>\n",
       "      <td>दु्रतमार्गको जसपालस्थित ८ नम्बर पुलको पाइलिङ म...</td>\n",
       "      <td>https://eprateekdaily.com/2023/08/18/55399</td>\n",
       "    </tr>\n",
       "  </tbody>\n",
       "</table>\n",
       "</div>"
      ],
      "text/plain": [
       "                                               Title       Category  \\\n",
       "0   पर्साका शिक्षकहरू वीरगंजमा ओइरिए, -यालीपछि धर्ना  प्रमुख समाचार   \n",
       "1              मिटरब्याजीमा राजनीतिक हस्तक्षेप बढ्दो  प्रमुख समाचार   \n",
       "2  शिक्षा ऐनको विरोधमा शिक्षकद्वारा पालिका कार्या...  प्रमुख समाचार   \n",
       "3  निर्माणाधीन दुधौरा पुलको डाइभर्सनमा विभाग र ठे...  प्रमुख समाचार   \n",
       "4  बाढीले फास्ट ट्र्याकको पुल निर्माण गर्ने मेशिन...  प्रमुख समाचार   \n",
       "\n",
       "         Auther           Date Location  \\\n",
       "0  प्रतीक दैनिक  साउन ३१, २०८०   वीरगंज   \n",
       "1  प्रतीक दैनिक  साउन ३०, २०८०   वीरगंज   \n",
       "2  प्रतीक दैनिक  साउन २९, २०८०   वीरगंज   \n",
       "3  प्रतीक दैनिक  साउन ३२, २०८०    निजगढ   \n",
       "4  प्रतीक दैनिक    भदौ १, २०८०    निजगढ   \n",
       "\n",
       "                                             Content  \\\n",
       "0  नेपाल शिक्षक महासङ्घ केन्द्रले मस्यौदाको विरोध...   \n",
       "1  राजनीतिका कारण मुख्य दोषीहरू विभिन्न बहाना बना...   \n",
       "2  नेपाल शिक्षक महासङ्घ, पर्साका अध्यक्ष प्रदीप ज...   \n",
       "3  पूर्व–पश्चिम महेन्द्र राजमार्ग अन्तर्गतका सडकख...   \n",
       "4  दु्रतमार्गको जसपालस्थित ८ नम्बर पुलको पाइलिङ म...   \n",
       "\n",
       "                                          URL  \n",
       "0  https://eprateekdaily.com/2023/08/16/55307  \n",
       "1  https://eprateekdaily.com/2023/08/15/55253  \n",
       "2  https://eprateekdaily.com/2023/08/14/55191  \n",
       "3  https://eprateekdaily.com/2023/08/17/55355  \n",
       "4  https://eprateekdaily.com/2023/08/18/55399  "
      ]
     },
     "execution_count": 14,
     "metadata": {},
     "output_type": "execute_result"
    }
   ],
   "source": [
    "eprateekdaily_final_df = pd.concat([major_news_df, local_news_df]).reset_index(drop = True)\n",
    "eprateekdaily_final_df.to_json('eprateekdaily_news_data.json')\n",
    "\n",
    "print(f'eprateekdaily final data collection size : {eprateekdaily_final_df.shape}\\n')\n",
    "eprateekdaily_final_df.head()"
   ]
  }
 ],
 "metadata": {
  "kernelspec": {
   "display_name": "Python 3 (ipykernel)",
   "language": "python",
   "name": "python3"
  },
  "language_info": {
   "codemirror_mode": {
    "name": "ipython",
    "version": 3
   },
   "file_extension": ".py",
   "mimetype": "text/x-python",
   "name": "python",
   "nbconvert_exporter": "python",
   "pygments_lexer": "ipython3",
   "version": "3.9.7"
  }
 },
 "nbformat": 4,
 "nbformat_minor": 5
}
