{
 "cells": [
  {
   "cell_type": "markdown",
   "metadata": {
    "id": "52FuuASZ6isa"
   },
   "source": [
    "# Scrapping IRCC (Immigration, Refugees and Citizenship Canada) Help Centre page\n",
    "\n",
    "<img src = 'https://user-images.githubusercontent.com/83589431/260982896-24daffcf-769e-4eae-8b75-e863523d153a.png'>"
   ]
  },
  {
   "cell_type": "markdown",
   "metadata": {
    "id": "uByJHoZE5sPi"
   },
   "source": [
    "## Importing Libraries"
   ]
  },
  {
   "cell_type": "code",
   "execution_count": 1,
   "metadata": {
    "id": "tZ8YOThIle8o"
   },
   "outputs": [],
   "source": [
    "import re\n",
    "import json\n",
    "\n",
    "from tqdm import tqdm\n",
    "from time import sleep\n",
    "from datetime import datetime\n",
    "\n",
    "import requests\n",
    "from bs4.element import Tag\n",
    "from bs4 import BeautifulSoup as sp"
   ]
  },
  {
   "cell_type": "code",
   "execution_count": 2,
   "metadata": {
    "id": "fIeSAE7Hll1D"
   },
   "outputs": [],
   "source": [
    "# IRCC Help centre site address\n",
    "\n",
    "URL = 'https://www.cic.gc.ca/english/helpcentre/'\n",
    "MAIN_PAGE = 'index-a-z-can.asp'\n",
    "QNA_URL = 'questions-answers-by-topic.asp?top='"
   ]
  },
  {
   "cell_type": "markdown",
   "metadata": {
    "id": "h3PQ6PsZ7d6s"
   },
   "source": [
    "## Scrapping Starts"
   ]
  },
  {
   "cell_type": "code",
   "execution_count": 3,
   "metadata": {
    "id": "x-dCe2SPqROS"
   },
   "outputs": [],
   "source": [
    "# Defining helper function to get requests object\n",
    "def get_request_obj(full_url):\n",
    "\n",
    "    '''\n",
    "    Input : website URL\n",
    "    Output : requests object\n",
    "    '''\n",
    "    return requests.get(full_url)\n",
    "\n",
    "# Defining helper function to get BeautifulSoup object\n",
    "def get_soup_obj(request_obj):\n",
    "\n",
    "    '''\n",
    "    Input : requests object\n",
    "    Output : BeautifulSoup Object\n",
    "    '''\n",
    "    return sp(request_obj.content, 'lxml')"
   ]
  },
  {
   "cell_type": "code",
   "execution_count": 4,
   "metadata": {
    "colab": {
     "base_uri": "https://localhost:8080/"
    },
    "id": "7xyzl7RW8lbZ",
    "outputId": "03a9c6c2-d543-4796-f867-d3868b3a0abc"
   },
   "outputs": [
    {
     "name": "stdout",
     "output_type": "stream",
     "text": [
      "Parsed page successfully\n"
     ]
    }
   ],
   "source": [
    "# Fetching webpage source code to 'master_soup'\n",
    "\n",
    "master_req = get_request_obj(URL + MAIN_PAGE)\n",
    "\n",
    "if master_req.status_code != 200:\n",
    "    raise requests.exceptions.ConnectionError(f'Expects response code 200, but recieved {master_req}')\n",
    "\n",
    "master_soup = get_soup_obj(master_req)\n",
    "\n",
    "print('Parsed page successfully')"
   ]
  },
  {
   "cell_type": "code",
   "execution_count": 5,
   "metadata": {
    "colab": {
     "base_uri": "https://localhost:8080/"
    },
    "id": "pNcr43c-8-9i",
    "outputId": "95d908cb-4623-47ef-8328-9b0f20b9027a"
   },
   "outputs": [
    {
     "data": {
      "text/plain": [
       "[<h2 id=\"a\"><a href=\"results-by-topic.asp?top=1\">Access to Information and Privacy</a></h2>,\n",
       " <h2><a href=\"results-by-topic.asp?top=2\">Adoption</a></h2>,\n",
       " <h2><a href=\"results-by-topic.asp?top=3\">Application status</a></h2>,\n",
       " <h2><a href=\"results-by-topic.asp?top=4\">Applying - General</a></h2>,\n",
       " <h2><a href=\"results-by-topic.asp?top=23\">Applying online</a></h2>,\n",
       " <h2><a href=\"results-by-topic.asp?top=20\">Asylum claims</a></h2>,\n",
       " <h2 id=\"b\"><a href=\"results-by-topic.asp?top=19\">Biometrics</a></h2>,\n",
       " <h2 id=\"c\"><a href=\"results-by-topic.asp?top=28\">Caregiver Program</a></h2>,\n",
       " <h2><a href=\"results-by-topic.asp?top=32\">Changing the sex or gender identifier on your documents</a></h2>,\n",
       " <h2><a href=\"results-by-topic.asp?top=5\">Citizenship</a></h2>,\n",
       " <h2><a href=\"results-by-topic.asp?top=34\">Contact us</a></h2>,\n",
       " <h2 id=\"d\"><a href=\"results-by-topic.asp?top=18\">Downloading files</a></h2>,\n",
       " <h2><a href=\"results-by-topic.asp?top=35\">Destination Canada</a></h2>,\n",
       " <h2 id=\"e\"><a href=\"results-by-topic.asp?st=16.7\">Electronic Travel Authorization (eTA)</a></h2>,\n",
       " <h2><a href=\"results-by-topic.asp?top=29\">Express Entry</a></h2>,\n",
       " <h2 id=\"f\"><a href=\"results-by-topic.asp?top=31\">Fraud and scams</a></h2>,\n",
       " <h2 id=\"i\"><a href=\"results-by-topic.asp?top=6\">Immigrating</a></h2>,\n",
       " <h2><a href=\"results-by-topic.asp?top=7\">Immigration representatives</a></h2>,\n",
       " <h2><a href=\"results-by-topic.asp?top=33\">Interim Federal Health Program</a></h2>,\n",
       " <h2><a href=\"results-by-topic.asp?top=8\">Inadmissibility</a></h2>,\n",
       " <h2><a href=\"results-by-topic.asp?top=25\">International Experience Canada</a></h2>,\n",
       " <h2 id=\"l\"><a href=\"results-by-topic.asp?top=22\">Leaving/Returning to Canada</a></h2>,\n",
       " <h2><a href=\"results-by-topic.asp?st=23.4\">Link your application to your online account</a></h2>,\n",
       " <h2 id=\"p\"><a href=\"results-by-topic.asp?top=21\"></a></h2>,\n",
       " <h2><a href=\"results-by-topic.asp?top=10\">Permanent Residents</a></h2>,\n",
       " <h2><a href=\"results-by-topic.asp?top=26\">Port of Entry Letter</a></h2>,\n",
       " <h2 id=\"r\"><a href=\"results-by-topic.asp?top=11\">Refugees</a></h2>,\n",
       " <h2><a href=\"results-by-topic.asp?top=12\">Replacing documents</a></h2>,\n",
       " <h2 id=\"s\"><a href=\"results-by-topic.asp?top=13\">Service standards</a></h2>,\n",
       " <h2><a href=\"results-by-topic.asp?top=27\">Settlement services</a></h2>,\n",
       " <h2>Sex Designation</h2>,\n",
       " <h2><a href=\"results-by-topic.asp?top=14\">Sponsoring your family</a></h2>,\n",
       " <h2><a href=\"results-by-topic.asp?top=15\">Studying</a></h2>,\n",
       " <h2 id=\"u\"><a href=\"results-by-topic.asp?top=38\">Ukraine: Immigration measures</a></h2>,\n",
       " <h2 id=\"v\"><a href=\"results-by-topic.asp?top=16\">Visiting</a></h2>,\n",
       " <h2 id=\"w\"><a href=\"results-by-topic.asp?top=17\">Work permits</a></h2>]"
      ]
     },
     "execution_count": 5,
     "metadata": {},
     "output_type": "execute_result"
    }
   ],
   "source": [
    "# Targetting topics using 'h2' tag\n",
    "main_topics = master_soup.find('section', {'class' : 'container'}).find_all('h2')\n",
    "main_topics"
   ]
  },
  {
   "cell_type": "code",
   "execution_count": 6,
   "metadata": {
    "colab": {
     "base_uri": "https://localhost:8080/"
    },
    "id": "N00gbtXg8-6j",
    "outputId": "f516db00-dae3-4dda-89eb-f5656ba073d2"
   },
   "outputs": [
    {
     "data": {
      "text/plain": [
       "[<a href=\"results-by-topic.asp?top=1\">Access to Information and Privacy</a>,\n",
       " <a href=\"results-by-topic.asp?top=2\">Adoption</a>,\n",
       " <a href=\"results-by-topic.asp?top=3\">Application status</a>,\n",
       " <a href=\"results-by-topic.asp?top=4\">Applying - General</a>,\n",
       " <a href=\"results-by-topic.asp?top=23\">Applying online</a>,\n",
       " <a href=\"results-by-topic.asp?top=20\">Asylum claims</a>,\n",
       " <a href=\"results-by-topic.asp?top=19\">Biometrics</a>,\n",
       " <a href=\"results-by-topic.asp?top=28\">Caregiver Program</a>,\n",
       " <a href=\"results-by-topic.asp?top=32\">Changing the sex or gender identifier on your documents</a>,\n",
       " <a href=\"results-by-topic.asp?top=5\">Citizenship</a>,\n",
       " <a href=\"results-by-topic.asp?top=34\">Contact us</a>,\n",
       " <a href=\"results-by-topic.asp?top=18\">Downloading files</a>,\n",
       " <a href=\"results-by-topic.asp?top=35\">Destination Canada</a>,\n",
       " <a href=\"results-by-topic.asp?st=16.7\">Electronic Travel Authorization (eTA)</a>,\n",
       " <a href=\"results-by-topic.asp?top=29\">Express Entry</a>,\n",
       " <a href=\"results-by-topic.asp?top=31\">Fraud and scams</a>,\n",
       " <a href=\"results-by-topic.asp?top=6\">Immigrating</a>,\n",
       " <a href=\"results-by-topic.asp?top=7\">Immigration representatives</a>,\n",
       " <a href=\"results-by-topic.asp?top=33\">Interim Federal Health Program</a>,\n",
       " <a href=\"results-by-topic.asp?top=8\">Inadmissibility</a>,\n",
       " <a href=\"results-by-topic.asp?top=25\">International Experience Canada</a>,\n",
       " <a href=\"results-by-topic.asp?top=22\">Leaving/Returning to Canada</a>,\n",
       " <a href=\"results-by-topic.asp?st=23.4\">Link your application to your online account</a>,\n",
       " <a href=\"results-by-topic.asp?top=21\"></a>,\n",
       " <a href=\"results-by-topic.asp?top=10\">Permanent Residents</a>,\n",
       " <a href=\"results-by-topic.asp?top=26\">Port of Entry Letter</a>,\n",
       " <a href=\"results-by-topic.asp?top=11\">Refugees</a>,\n",
       " <a href=\"results-by-topic.asp?top=12\">Replacing documents</a>,\n",
       " <a href=\"results-by-topic.asp?top=13\">Service standards</a>,\n",
       " <a href=\"results-by-topic.asp?top=27\">Settlement services</a>,\n",
       " <a href=\"results-by-topic.asp?top=14\">Sponsoring your family</a>,\n",
       " <a href=\"results-by-topic.asp?top=15\">Studying</a>,\n",
       " <a href=\"results-by-topic.asp?top=38\">Ukraine: Immigration measures</a>,\n",
       " <a href=\"results-by-topic.asp?top=16\">Visiting</a>,\n",
       " <a href=\"results-by-topic.asp?top=17\">Work permits</a>]"
      ]
     },
     "execution_count": 6,
     "metadata": {},
     "output_type": "execute_result"
    }
   ],
   "source": [
    "# Extracting links of each topics\n",
    "topics_with_link = [top.find('a') for top in main_topics if top.find('a') != None]\n",
    "topics_with_link"
   ]
  },
  {
   "cell_type": "markdown",
   "metadata": {
    "id": "ZU-U0BJfDDkQ"
   },
   "source": [
    "**Extracting numericals from the above generated list and generating a Python dictionary**\n",
    "\n",
    "Example:\n",
    "\n",
    "`<a href=\"results-by-topic.asp?top=16\">Visiting</a>` from this we are only interested in getting **16** from `top=16` and it's text **Visiting**.\n",
    "\n",
    "Using these 2 information we'll create a dictionary as,\n",
    "```python\n",
    "{\n",
    "    'Visiting' : '16'\n",
    "}\n",
    "```\n",
    "\n"
   ]
  },
  {
   "cell_type": "code",
   "execution_count": 7,
   "metadata": {
    "colab": {
     "base_uri": "https://localhost:8080/"
    },
    "id": "n_aMBd-7tRJ-",
    "outputId": "3aedc36d-6f82-402f-8443-803fab8d7278"
   },
   "outputs": [
    {
     "data": {
      "text/plain": [
       "{'Access to Information and Privacy': '1',\n",
       " 'Adoption': '2',\n",
       " 'Application status': '3',\n",
       " 'Applying - General': '4',\n",
       " 'Applying online': '23',\n",
       " 'Asylum claims': '20',\n",
       " 'Biometrics': '19',\n",
       " 'Caregiver Program': '28',\n",
       " 'Changing the sex or gender identifier on your documents': '32',\n",
       " 'Citizenship': '5',\n",
       " 'Contact us': '34',\n",
       " 'Downloading files': '18',\n",
       " 'Destination Canada': '35',\n",
       " 'Electronic Travel Authorization (eTA)': '16.7',\n",
       " 'Express Entry': '29',\n",
       " 'Fraud and scams': '31',\n",
       " 'Immigrating': '6',\n",
       " 'Immigration representatives': '7',\n",
       " 'Interim Federal Health Program': '33',\n",
       " 'Inadmissibility': '8',\n",
       " 'International Experience Canada': '25',\n",
       " 'Leaving/Returning to Canada': '22',\n",
       " 'Link your application to your online account': '23.4',\n",
       " 'Permanent Residents': '10',\n",
       " 'Port of Entry Letter': '26',\n",
       " 'Refugees': '11',\n",
       " 'Replacing documents': '12',\n",
       " 'Service standards': '13',\n",
       " 'Settlement services': '27',\n",
       " 'Sponsoring your family': '14',\n",
       " 'Studying': '15',\n",
       " 'Ukraine: Immigration measures': '38',\n",
       " 'Visiting': '16',\n",
       " 'Work permits': '17'}"
      ]
     },
     "execution_count": 7,
     "metadata": {},
     "output_type": "execute_result"
    }
   ],
   "source": [
    "# Extracting numbers present after '=' sign from topics_with_link\n",
    "topic_sections = {topics_.text:topics_['href'].split('=')[1] for topics_ in topics_with_link if len(topics_.text) > 0}\n",
    "topic_sections"
   ]
  },
  {
   "cell_type": "markdown",
   "metadata": {},
   "source": [
    "**Final Data storing structure**\n",
    "\n",
    "```python\n",
    "{'Topic' :\n",
    "        {\n",
    "            'Question' : '.........',\n",
    "            'Content' : Answers,\n",
    "            'Source' : URL ,\n",
    "            'DateOfScrapping' : Date\n",
    "        }\n",
    "}\n",
    "```"
   ]
  },
  {
   "cell_type": "code",
   "execution_count": 8,
   "metadata": {
    "colab": {
     "base_uri": "https://localhost:8080/"
    },
    "id": "CZh6ztTOUosq",
    "outputId": "f67e11c4-bd30-4081-9140-f3ad188f4539"
   },
   "outputs": [
    {
     "name": "stderr",
     "output_type": "stream",
     "text": [
      "100%|███████████████████████████████| 34/34 [01:26<00:00,  2.56s/it]"
     ]
    },
    {
     "name": "stdout",
     "output_type": "stream",
     "text": [
      "\n",
      "\n",
      "Topics failed to scrape due to errors\n",
      " -----------------------------------\n",
      "Application status\n",
      "Studying\n"
     ]
    },
    {
     "name": "stderr",
     "output_type": "stream",
     "text": [
      "\n"
     ]
    }
   ],
   "source": [
    "topic_qna = {} # For storing scraped text datas\n",
    "failed_fetching = [] # for keeping track of scrape failed topics\n",
    "\n",
    "for topic, number in tqdm(topic_sections.items()):\n",
    "    r_temp = get_request_obj(URL + QNA_URL + number)\n",
    "    if r_temp.status_code != 200: # only if the responce code is 200, the scraper runs\n",
    "        failed_fetching.append(topic)\n",
    "    else:\n",
    "        topic_qna[topic] = {}\n",
    "        qna_object = get_soup_obj(r_temp)\n",
    "\n",
    "        for faq_tag in qna_object.find('main').find('section'):\n",
    "            if isinstance(faq_tag, Tag):\n",
    "                if faq_tag.name == 'h2':\n",
    "                    key = faq_tag.text.strip()\n",
    "                    topic_qna[topic][key] = {}\n",
    "                    solutions_ = []\n",
    "                if faq_tag.name != 'h2':\n",
    "                    solutions_.append(faq_tag.text.strip())\n",
    "                    space_removal_1 = re.sub(r'\\n|\\r|\\xa0|\\t', ' ', ''.join(solutions_)) # Cleaning text : removing new-line, tab and white space charaters\n",
    "                    topic_qna[topic][key]['Content'] = re.sub('\\s+', ' ', space_removal_1) # Cleaning text : removing multiple white space charaters\n",
    "                    topic_qna[topic][key]['Source'] = URL + QNA_URL + number\n",
    "                    topic_qna[topic][key]['DateOfScrapping'] = datetime.now().strftime('%Y-%m-%d %H:%M:%S') + ' UTC'\n",
    "    sleep(1)\n",
    "\n",
    "print('\\n\\nTopics failed to scrape due to errors\\n', '-' * 35)\n",
    "for topics in failed_fetching: print(topics)"
   ]
  },
  {
   "cell_type": "markdown",
   "metadata": {
    "id": "RaWDCTuASuE-"
   },
   "source": [
    "## Saving data into JSON format"
   ]
  },
  {
   "cell_type": "code",
   "execution_count": 9,
   "metadata": {
    "id": "bPNX_F6PSQa1"
   },
   "outputs": [],
   "source": [
    "with open('IRCC_Data.json', 'w') as f:\n",
    "    json.dump(topic_qna, f)"
   ]
  },
  {
   "cell_type": "markdown",
   "metadata": {},
   "source": [
    "IRCC_Data.join is aavailable at : https://github.com/OmdenaAI/toronto-canada-smartguide/tree/task-1-data-collection/src/data/task-1-data-collection/IRCC_Data.json"
   ]
  }
 ],
 "metadata": {
  "colab": {
   "provenance": []
  },
  "kernelspec": {
   "display_name": "Python 3 (ipykernel)",
   "language": "python",
   "name": "python3"
  },
  "language_info": {
   "codemirror_mode": {
    "name": "ipython",
    "version": 3
   },
   "file_extension": ".py",
   "mimetype": "text/x-python",
   "name": "python",
   "nbconvert_exporter": "python",
   "pygments_lexer": "ipython3",
   "version": "3.9.7"
  }
 },
 "nbformat": 4,
 "nbformat_minor": 4
}
